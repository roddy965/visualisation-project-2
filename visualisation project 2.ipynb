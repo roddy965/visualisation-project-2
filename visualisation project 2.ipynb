{
  "nbformat": 4,
  "nbformat_minor": 0,
  "metadata": {
    "colab": {
      "provenance": []
    },
    "kernelspec": {
      "name": "python3",
      "display_name": "Python 3"
    },
    "language_info": {
      "name": "python"
    }
  },
  "cells": [
    {
      "cell_type": "markdown",
      "source": [
        "# **Business problem**"
      ],
      "metadata": {
        "id": "1JE7cKXaSLD8"
      }
    },
    {
      "cell_type": "markdown",
      "source": [
        "The population growth is putting pressure on agricultural resources, which could negatively impact agricultural productivity and sustainability. This poses a challenge for meeting the growing demand for food while maintaining environmentally responsible farming practices."
      ],
      "metadata": {
        "id": "4fvbSTaHRfBy"
      }
    },
    {
      "cell_type": "markdown",
      "source": [
        "# **Business overview**"
      ],
      "metadata": {
        "id": "Cx3WYdPYSRug"
      }
    },
    {
      "cell_type": "markdown",
      "source": [
        "The business problem revolves around the tension between the increasing demand for food and the limitations of agricultural resources, exacerbated by population growth. This creates a need for innovative solutions that can enhance productivity, reduce environmental impact, and ensure sustainable food production for the future."
      ],
      "metadata": {
        "id": "0xO5VjHPSyRV"
      }
    },
    {
      "cell_type": "markdown",
      "source": [
        "# **Objective of the study**"
      ],
      "metadata": {
        "id": "UYpswt5YNCKU"
      }
    },
    {
      "cell_type": "markdown",
      "source": [
        "\n",
        "\n",
        "1. How to increase agricultural productivity.\n",
        "1. How to slow down population growth to allevite pressure on agricultural resources.\n",
        "2. How to balance the needs of agriculture with environmental conservation,benefitting both rural communities and planet as a whole.\n",
        "2. How to provide resources and  training to small scale farmers helping them adapt modern farming techiques and technologies.\n",
        "\n"
      ],
      "metadata": {
        "id": "eo2Yxcr_O8Xo"
      }
    },
    {
      "cell_type": "markdown",
      "source": [
        "## Final Project Submission\n",
        "\n",
        "Please fill out:\n",
        "* Student name:Rodney Meikan\n",
        "* Student pace:  part time\n",
        "* Scheduled project review date/time:01/09/2024\n",
        "* Instructor name:Samwel Jane\n",
        "* Blog post URL:"
      ],
      "metadata": {
        "id": "DrClwnzvM5eO"
      }
    },
    {
      "cell_type": "markdown",
      "source": [
        "# **Data understanding**"
      ],
      "metadata": {
        "id": "3Cw_VrbOg46Y"
      }
    },
    {
      "cell_type": "code",
      "execution_count": 50,
      "metadata": {
        "id": "7R4fTXjiEruC"
      },
      "outputs": [],
      "source": [
        "#importing all the necessary libraries\n",
        "import pandas as pd\n",
        "import numpy as np\n",
        "import matplotlib.pyplot as plt\n",
        "import seaborn as sns\n",
        "import zipfile\n",
        "%matplotlib inline"
      ]
    },
    {
      "source": [
        "#open all files in the zip archive\n",
        "with zipfile.ZipFile('/content/DATA.zip', 'r') as zip_ref:\n",
        "    # List all files in the ZIP archive\n",
        "    print(zip_ref.namelist())\n",
        "    # Extract all files in the ZIP archive\n",
        "    print(zip_ref.extractall())\n",
        "    # Extract all the desired CSV file (replace 'actual_csv_file.csv' with the correct filename)\n",
        "    zip_ref.extract('DATA/TABLES/Uganda_Karamoja_Subcounty_Crop_Yield_Population.csv')\n",
        "    # Now read the extracted CSV file\n",
        "    df = pd.read_csv('DATA/TABLES/Uganda_Karamoja_Subcounty_Crop_Yield_Population.csv')\n",
        "# Now you can work with the DataFrame 'df'\n",
        "df.head()"
      ],
      "cell_type": "code",
      "metadata": {
        "id": "wrrcrcFGJD-s",
        "colab": {
          "base_uri": "https://localhost:8080/",
          "height": 278
        },
        "outputId": "2f35c5a4-f337-42c8-86a2-8385e1fe318f"
      },
      "execution_count": 51,
      "outputs": [
        {
          "output_type": "stream",
          "name": "stdout",
          "text": [
            "['DATA/', 'DATA/TABLES/', 'DATA/TABLES/Uganda_Karamoja_Subcounty_Crop_Yield_Population.csv', '__MACOSX/', '__MACOSX/DATA/', '__MACOSX/DATA/TABLES/', '__MACOSX/DATA/TABLES/._Uganda_Karamoja_Subcounty_Crop_Yield_Population.csv', 'DATA/TABLES/Uganda_Karamoja_District_Crop_Yield_Population.csv', '__MACOSX/DATA/TABLES/._Uganda_Karamoja_District_Crop_Yield_Population.csv', '__MACOSX/DATA/._TABLES', 'DATA/.DS_Store', '__MACOSX/DATA/._.DS_Store', 'DATA/SHAPEFILES/', 'DATA/SHAPEFILES/Crop_Type_Map_Sorghum.prj', '__MACOSX/DATA/SHAPEFILES/', '__MACOSX/DATA/SHAPEFILES/._Crop_Type_Map_Sorghum.prj', 'DATA/SHAPEFILES/Crop_Type_Map_Maize.prj', '__MACOSX/DATA/SHAPEFILES/._Crop_Type_Map_Maize.prj', 'DATA/SHAPEFILES/Uganda_Districts.dbf', '__MACOSX/DATA/SHAPEFILES/._Uganda_Districts.dbf', 'DATA/SHAPEFILES/Uganda_Subcounties.dbf', '__MACOSX/DATA/SHAPEFILES/._Uganda_Subcounties.dbf', 'DATA/SHAPEFILES/Crop_Type_Map_Sorghum.qpj', '__MACOSX/DATA/SHAPEFILES/._Crop_Type_Map_Sorghum.qpj', 'DATA/SHAPEFILES/Crop_Type_Map_Maize.qpj', '__MACOSX/DATA/SHAPEFILES/._Crop_Type_Map_Maize.qpj', 'DATA/SHAPEFILES/Uganda_Districts.shp', '__MACOSX/DATA/SHAPEFILES/._Uganda_Districts.shp', 'DATA/SHAPEFILES/Uganda_Subcounties.shp', '__MACOSX/DATA/SHAPEFILES/._Uganda_Subcounties.shp', 'DATA/SHAPEFILES/Uganda_Subcounties.cpg', '__MACOSX/DATA/SHAPEFILES/._Uganda_Subcounties.cpg', 'DATA/SHAPEFILES/Uganda_Districts.shx', '__MACOSX/DATA/SHAPEFILES/._Uganda_Districts.shx', 'DATA/SHAPEFILES/Uganda_Subcounties.shx', '__MACOSX/DATA/SHAPEFILES/._Uganda_Subcounties.shx', 'DATA/SHAPEFILES/Crop_Type_Map_Sorghum.shp', '__MACOSX/DATA/SHAPEFILES/._Crop_Type_Map_Sorghum.shp', 'DATA/SHAPEFILES/Crop_Type_Map_Maize.shp', '__MACOSX/DATA/SHAPEFILES/._Crop_Type_Map_Maize.shp', 'DATA/SHAPEFILES/Crop_Type_Map_Sorghum.shx', '__MACOSX/DATA/SHAPEFILES/._Crop_Type_Map_Sorghum.shx', 'DATA/SHAPEFILES/Crop_Type_Map_Maize.shx', '__MACOSX/DATA/SHAPEFILES/._Crop_Type_Map_Maize.shx', 'DATA/SHAPEFILES/Uganda_Districts (1).cpg', '__MACOSX/DATA/SHAPEFILES/._Uganda_Districts (1).cpg', 'DATA/SHAPEFILES/Uganda_Subcounties.qpj', '__MACOSX/DATA/SHAPEFILES/._Uganda_Subcounties.qpj', 'DATA/SHAPEFILES/Uganda_Districts.qpj', '__MACOSX/DATA/SHAPEFILES/._Uganda_Districts.qpj', 'DATA/SHAPEFILES/Uganda_Districts.prj', '__MACOSX/DATA/SHAPEFILES/._Uganda_Districts.prj', 'DATA/SHAPEFILES/Uganda_Subcounties.prj', '__MACOSX/DATA/SHAPEFILES/._Uganda_Subcounties.prj', 'DATA/SHAPEFILES/Crop_Type_Map_Maize.dbf', '__MACOSX/DATA/SHAPEFILES/._Crop_Type_Map_Maize.dbf', 'DATA/SHAPEFILES/Crop_Type_Map_Sorghum.dbf', '__MACOSX/DATA/SHAPEFILES/._Crop_Type_Map_Sorghum.dbf', '__MACOSX/DATA/._SHAPEFILES', '__MACOSX/._DATA']\n",
            "None\n"
          ]
        },
        {
          "output_type": "execute_result",
          "data": {
            "text/plain": [
              "   OBJECTID       SUBCOUNTY_NAME DISTRICT_NAME    POP        Area Karamoja  \\\n",
              "0       263              KACHERI        KOTIDO  17244  1067176155        Y   \n",
              "1       264               KOTIDO        KOTIDO  52771   597575188        Y   \n",
              "2       265  KOTIDO TOWN COUNCIL        KOTIDO  27389    23972401        Y   \n",
              "3       266         NAKAPERIMORU        KOTIDO  38775   419111591        Y   \n",
              "4       267           PANYANGARA        KOTIDO  65704   880955930        Y   \n",
              "\n",
              "   S_Yield_Ha   M_Yield_Ha  Crop_Area_Ha     S_Area_Ha   M_Area_Ha  \\\n",
              "0  354.207411  1137.467019   7023.533691   6434.342449  528.124229   \n",
              "1  367.890523  1162.996687  13587.990760  12455.592640  824.767081   \n",
              "2  369.314177  1167.005832   1656.531855   1520.322052    8.561644   \n",
              "3  283.324569   852.366578   7087.823334   6761.488901   45.721712   \n",
              "4  373.836926  1283.859882  10398.249390  10111.198130  172.611914   \n",
              "\n",
              "     S_Prod_Tot     M_Prod_Tot  \n",
              "0  2.279092e+06  600723.892900  \n",
              "1  4.582294e+06  959201.382500  \n",
              "2  5.614765e+05    9991.488268  \n",
              "3  1.915696e+06   38971.659080  \n",
              "4  3.779939e+06  221609.511400  "
            ],
            "text/html": [
              "\n",
              "  <div id=\"df-a001b4b8-2a02-492f-97c5-fee93025151b\" class=\"colab-df-container\">\n",
              "    <div>\n",
              "<style scoped>\n",
              "    .dataframe tbody tr th:only-of-type {\n",
              "        vertical-align: middle;\n",
              "    }\n",
              "\n",
              "    .dataframe tbody tr th {\n",
              "        vertical-align: top;\n",
              "    }\n",
              "\n",
              "    .dataframe thead th {\n",
              "        text-align: right;\n",
              "    }\n",
              "</style>\n",
              "<table border=\"1\" class=\"dataframe\">\n",
              "  <thead>\n",
              "    <tr style=\"text-align: right;\">\n",
              "      <th></th>\n",
              "      <th>OBJECTID</th>\n",
              "      <th>SUBCOUNTY_NAME</th>\n",
              "      <th>DISTRICT_NAME</th>\n",
              "      <th>POP</th>\n",
              "      <th>Area</th>\n",
              "      <th>Karamoja</th>\n",
              "      <th>S_Yield_Ha</th>\n",
              "      <th>M_Yield_Ha</th>\n",
              "      <th>Crop_Area_Ha</th>\n",
              "      <th>S_Area_Ha</th>\n",
              "      <th>M_Area_Ha</th>\n",
              "      <th>S_Prod_Tot</th>\n",
              "      <th>M_Prod_Tot</th>\n",
              "    </tr>\n",
              "  </thead>\n",
              "  <tbody>\n",
              "    <tr>\n",
              "      <th>0</th>\n",
              "      <td>263</td>\n",
              "      <td>KACHERI</td>\n",
              "      <td>KOTIDO</td>\n",
              "      <td>17244</td>\n",
              "      <td>1067176155</td>\n",
              "      <td>Y</td>\n",
              "      <td>354.207411</td>\n",
              "      <td>1137.467019</td>\n",
              "      <td>7023.533691</td>\n",
              "      <td>6434.342449</td>\n",
              "      <td>528.124229</td>\n",
              "      <td>2.279092e+06</td>\n",
              "      <td>600723.892900</td>\n",
              "    </tr>\n",
              "    <tr>\n",
              "      <th>1</th>\n",
              "      <td>264</td>\n",
              "      <td>KOTIDO</td>\n",
              "      <td>KOTIDO</td>\n",
              "      <td>52771</td>\n",
              "      <td>597575188</td>\n",
              "      <td>Y</td>\n",
              "      <td>367.890523</td>\n",
              "      <td>1162.996687</td>\n",
              "      <td>13587.990760</td>\n",
              "      <td>12455.592640</td>\n",
              "      <td>824.767081</td>\n",
              "      <td>4.582294e+06</td>\n",
              "      <td>959201.382500</td>\n",
              "    </tr>\n",
              "    <tr>\n",
              "      <th>2</th>\n",
              "      <td>265</td>\n",
              "      <td>KOTIDO TOWN COUNCIL</td>\n",
              "      <td>KOTIDO</td>\n",
              "      <td>27389</td>\n",
              "      <td>23972401</td>\n",
              "      <td>Y</td>\n",
              "      <td>369.314177</td>\n",
              "      <td>1167.005832</td>\n",
              "      <td>1656.531855</td>\n",
              "      <td>1520.322052</td>\n",
              "      <td>8.561644</td>\n",
              "      <td>5.614765e+05</td>\n",
              "      <td>9991.488268</td>\n",
              "    </tr>\n",
              "    <tr>\n",
              "      <th>3</th>\n",
              "      <td>266</td>\n",
              "      <td>NAKAPERIMORU</td>\n",
              "      <td>KOTIDO</td>\n",
              "      <td>38775</td>\n",
              "      <td>419111591</td>\n",
              "      <td>Y</td>\n",
              "      <td>283.324569</td>\n",
              "      <td>852.366578</td>\n",
              "      <td>7087.823334</td>\n",
              "      <td>6761.488901</td>\n",
              "      <td>45.721712</td>\n",
              "      <td>1.915696e+06</td>\n",
              "      <td>38971.659080</td>\n",
              "    </tr>\n",
              "    <tr>\n",
              "      <th>4</th>\n",
              "      <td>267</td>\n",
              "      <td>PANYANGARA</td>\n",
              "      <td>KOTIDO</td>\n",
              "      <td>65704</td>\n",
              "      <td>880955930</td>\n",
              "      <td>Y</td>\n",
              "      <td>373.836926</td>\n",
              "      <td>1283.859882</td>\n",
              "      <td>10398.249390</td>\n",
              "      <td>10111.198130</td>\n",
              "      <td>172.611914</td>\n",
              "      <td>3.779939e+06</td>\n",
              "      <td>221609.511400</td>\n",
              "    </tr>\n",
              "  </tbody>\n",
              "</table>\n",
              "</div>\n",
              "    <div class=\"colab-df-buttons\">\n",
              "\n",
              "  <div class=\"colab-df-container\">\n",
              "    <button class=\"colab-df-convert\" onclick=\"convertToInteractive('df-a001b4b8-2a02-492f-97c5-fee93025151b')\"\n",
              "            title=\"Convert this dataframe to an interactive table.\"\n",
              "            style=\"display:none;\">\n",
              "\n",
              "  <svg xmlns=\"http://www.w3.org/2000/svg\" height=\"24px\" viewBox=\"0 -960 960 960\">\n",
              "    <path d=\"M120-120v-720h720v720H120Zm60-500h600v-160H180v160Zm220 220h160v-160H400v160Zm0 220h160v-160H400v160ZM180-400h160v-160H180v160Zm440 0h160v-160H620v160ZM180-180h160v-160H180v160Zm440 0h160v-160H620v160Z\"/>\n",
              "  </svg>\n",
              "    </button>\n",
              "\n",
              "  <style>\n",
              "    .colab-df-container {\n",
              "      display:flex;\n",
              "      gap: 12px;\n",
              "    }\n",
              "\n",
              "    .colab-df-convert {\n",
              "      background-color: #E8F0FE;\n",
              "      border: none;\n",
              "      border-radius: 50%;\n",
              "      cursor: pointer;\n",
              "      display: none;\n",
              "      fill: #1967D2;\n",
              "      height: 32px;\n",
              "      padding: 0 0 0 0;\n",
              "      width: 32px;\n",
              "    }\n",
              "\n",
              "    .colab-df-convert:hover {\n",
              "      background-color: #E2EBFA;\n",
              "      box-shadow: 0px 1px 2px rgba(60, 64, 67, 0.3), 0px 1px 3px 1px rgba(60, 64, 67, 0.15);\n",
              "      fill: #174EA6;\n",
              "    }\n",
              "\n",
              "    .colab-df-buttons div {\n",
              "      margin-bottom: 4px;\n",
              "    }\n",
              "\n",
              "    [theme=dark] .colab-df-convert {\n",
              "      background-color: #3B4455;\n",
              "      fill: #D2E3FC;\n",
              "    }\n",
              "\n",
              "    [theme=dark] .colab-df-convert:hover {\n",
              "      background-color: #434B5C;\n",
              "      box-shadow: 0px 1px 3px 1px rgba(0, 0, 0, 0.15);\n",
              "      filter: drop-shadow(0px 1px 2px rgba(0, 0, 0, 0.3));\n",
              "      fill: #FFFFFF;\n",
              "    }\n",
              "  </style>\n",
              "\n",
              "    <script>\n",
              "      const buttonEl =\n",
              "        document.querySelector('#df-a001b4b8-2a02-492f-97c5-fee93025151b button.colab-df-convert');\n",
              "      buttonEl.style.display =\n",
              "        google.colab.kernel.accessAllowed ? 'block' : 'none';\n",
              "\n",
              "      async function convertToInteractive(key) {\n",
              "        const element = document.querySelector('#df-a001b4b8-2a02-492f-97c5-fee93025151b');\n",
              "        const dataTable =\n",
              "          await google.colab.kernel.invokeFunction('convertToInteractive',\n",
              "                                                    [key], {});\n",
              "        if (!dataTable) return;\n",
              "\n",
              "        const docLinkHtml = 'Like what you see? Visit the ' +\n",
              "          '<a target=\"_blank\" href=https://colab.research.google.com/notebooks/data_table.ipynb>data table notebook</a>'\n",
              "          + ' to learn more about interactive tables.';\n",
              "        element.innerHTML = '';\n",
              "        dataTable['output_type'] = 'display_data';\n",
              "        await google.colab.output.renderOutput(dataTable, element);\n",
              "        const docLink = document.createElement('div');\n",
              "        docLink.innerHTML = docLinkHtml;\n",
              "        element.appendChild(docLink);\n",
              "      }\n",
              "    </script>\n",
              "  </div>\n",
              "\n",
              "\n",
              "<div id=\"df-ed25ab8c-a56c-44fc-8594-795e3955bd91\">\n",
              "  <button class=\"colab-df-quickchart\" onclick=\"quickchart('df-ed25ab8c-a56c-44fc-8594-795e3955bd91')\"\n",
              "            title=\"Suggest charts\"\n",
              "            style=\"display:none;\">\n",
              "\n",
              "<svg xmlns=\"http://www.w3.org/2000/svg\" height=\"24px\"viewBox=\"0 0 24 24\"\n",
              "     width=\"24px\">\n",
              "    <g>\n",
              "        <path d=\"M19 3H5c-1.1 0-2 .9-2 2v14c0 1.1.9 2 2 2h14c1.1 0 2-.9 2-2V5c0-1.1-.9-2-2-2zM9 17H7v-7h2v7zm4 0h-2V7h2v10zm4 0h-2v-4h2v4z\"/>\n",
              "    </g>\n",
              "</svg>\n",
              "  </button>\n",
              "\n",
              "<style>\n",
              "  .colab-df-quickchart {\n",
              "      --bg-color: #E8F0FE;\n",
              "      --fill-color: #1967D2;\n",
              "      --hover-bg-color: #E2EBFA;\n",
              "      --hover-fill-color: #174EA6;\n",
              "      --disabled-fill-color: #AAA;\n",
              "      --disabled-bg-color: #DDD;\n",
              "  }\n",
              "\n",
              "  [theme=dark] .colab-df-quickchart {\n",
              "      --bg-color: #3B4455;\n",
              "      --fill-color: #D2E3FC;\n",
              "      --hover-bg-color: #434B5C;\n",
              "      --hover-fill-color: #FFFFFF;\n",
              "      --disabled-bg-color: #3B4455;\n",
              "      --disabled-fill-color: #666;\n",
              "  }\n",
              "\n",
              "  .colab-df-quickchart {\n",
              "    background-color: var(--bg-color);\n",
              "    border: none;\n",
              "    border-radius: 50%;\n",
              "    cursor: pointer;\n",
              "    display: none;\n",
              "    fill: var(--fill-color);\n",
              "    height: 32px;\n",
              "    padding: 0;\n",
              "    width: 32px;\n",
              "  }\n",
              "\n",
              "  .colab-df-quickchart:hover {\n",
              "    background-color: var(--hover-bg-color);\n",
              "    box-shadow: 0 1px 2px rgba(60, 64, 67, 0.3), 0 1px 3px 1px rgba(60, 64, 67, 0.15);\n",
              "    fill: var(--button-hover-fill-color);\n",
              "  }\n",
              "\n",
              "  .colab-df-quickchart-complete:disabled,\n",
              "  .colab-df-quickchart-complete:disabled:hover {\n",
              "    background-color: var(--disabled-bg-color);\n",
              "    fill: var(--disabled-fill-color);\n",
              "    box-shadow: none;\n",
              "  }\n",
              "\n",
              "  .colab-df-spinner {\n",
              "    border: 2px solid var(--fill-color);\n",
              "    border-color: transparent;\n",
              "    border-bottom-color: var(--fill-color);\n",
              "    animation:\n",
              "      spin 1s steps(1) infinite;\n",
              "  }\n",
              "\n",
              "  @keyframes spin {\n",
              "    0% {\n",
              "      border-color: transparent;\n",
              "      border-bottom-color: var(--fill-color);\n",
              "      border-left-color: var(--fill-color);\n",
              "    }\n",
              "    20% {\n",
              "      border-color: transparent;\n",
              "      border-left-color: var(--fill-color);\n",
              "      border-top-color: var(--fill-color);\n",
              "    }\n",
              "    30% {\n",
              "      border-color: transparent;\n",
              "      border-left-color: var(--fill-color);\n",
              "      border-top-color: var(--fill-color);\n",
              "      border-right-color: var(--fill-color);\n",
              "    }\n",
              "    40% {\n",
              "      border-color: transparent;\n",
              "      border-right-color: var(--fill-color);\n",
              "      border-top-color: var(--fill-color);\n",
              "    }\n",
              "    60% {\n",
              "      border-color: transparent;\n",
              "      border-right-color: var(--fill-color);\n",
              "    }\n",
              "    80% {\n",
              "      border-color: transparent;\n",
              "      border-right-color: var(--fill-color);\n",
              "      border-bottom-color: var(--fill-color);\n",
              "    }\n",
              "    90% {\n",
              "      border-color: transparent;\n",
              "      border-bottom-color: var(--fill-color);\n",
              "    }\n",
              "  }\n",
              "</style>\n",
              "\n",
              "  <script>\n",
              "    async function quickchart(key) {\n",
              "      const quickchartButtonEl =\n",
              "        document.querySelector('#' + key + ' button');\n",
              "      quickchartButtonEl.disabled = true;  // To prevent multiple clicks.\n",
              "      quickchartButtonEl.classList.add('colab-df-spinner');\n",
              "      try {\n",
              "        const charts = await google.colab.kernel.invokeFunction(\n",
              "            'suggestCharts', [key], {});\n",
              "      } catch (error) {\n",
              "        console.error('Error during call to suggestCharts:', error);\n",
              "      }\n",
              "      quickchartButtonEl.classList.remove('colab-df-spinner');\n",
              "      quickchartButtonEl.classList.add('colab-df-quickchart-complete');\n",
              "    }\n",
              "    (() => {\n",
              "      let quickchartButtonEl =\n",
              "        document.querySelector('#df-ed25ab8c-a56c-44fc-8594-795e3955bd91 button');\n",
              "      quickchartButtonEl.style.display =\n",
              "        google.colab.kernel.accessAllowed ? 'block' : 'none';\n",
              "    })();\n",
              "  </script>\n",
              "</div>\n",
              "\n",
              "    </div>\n",
              "  </div>\n"
            ],
            "application/vnd.google.colaboratory.intrinsic+json": {
              "type": "dataframe",
              "variable_name": "df",
              "summary": "{\n  \"name\": \"df\",\n  \"rows\": 52,\n  \"fields\": [\n    {\n      \"column\": \"OBJECTID\",\n      \"properties\": {\n        \"dtype\": \"number\",\n        \"std\": 280,\n        \"min\": 263,\n        \"max\": 1320,\n        \"num_unique_values\": 52,\n        \"samples\": [\n          604,\n          1023,\n          1029\n        ],\n        \"semantic_type\": \"\",\n        \"description\": \"\"\n      }\n    },\n    {\n      \"column\": \"SUBCOUNTY_NAME\",\n      \"properties\": {\n        \"dtype\": \"string\",\n        \"num_unique_values\": 52,\n        \"samples\": [\n          \"SIDOK\",\n          \"IRIIRI\",\n          \"NGOLERIET\"\n        ],\n        \"semantic_type\": \"\",\n        \"description\": \"\"\n      }\n    },\n    {\n      \"column\": \"DISTRICT_NAME\",\n      \"properties\": {\n        \"dtype\": \"category\",\n        \"num_unique_values\": 7,\n        \"samples\": [\n          \"KOTIDO\",\n          \"KAABONG\",\n          \"NAKAPIRIPIRIT\"\n        ],\n        \"semantic_type\": \"\",\n        \"description\": \"\"\n      }\n    },\n    {\n      \"column\": \"POP\",\n      \"properties\": {\n        \"dtype\": \"number\",\n        \"std\": 20865,\n        \"min\": 1418,\n        \"max\": 100919,\n        \"num_unique_values\": 52,\n        \"samples\": [\n          24092,\n          46979,\n          20790\n        ],\n        \"semantic_type\": \"\",\n        \"description\": \"\"\n      }\n    },\n    {\n      \"column\": \"Area\",\n      \"properties\": {\n        \"dtype\": \"number\",\n        \"std\": 491330849,\n        \"min\": 2121209,\n        \"max\": 2069554899,\n        \"num_unique_values\": 52,\n        \"samples\": [\n          125330583,\n          1030623258,\n          158887552\n        ],\n        \"semantic_type\": \"\",\n        \"description\": \"\"\n      }\n    },\n    {\n      \"column\": \"Karamoja\",\n      \"properties\": {\n        \"dtype\": \"category\",\n        \"num_unique_values\": 1,\n        \"samples\": [\n          \"Y\"\n        ],\n        \"semantic_type\": \"\",\n        \"description\": \"\"\n      }\n    },\n    {\n      \"column\": \"S_Yield_Ha\",\n      \"properties\": {\n        \"dtype\": \"number\",\n        \"std\": 118.56990673395282,\n        \"min\": 108.1564114,\n        \"max\": 560.3130703,\n        \"num_unique_values\": 52,\n        \"samples\": [\n          285.3362943\n        ],\n        \"semantic_type\": \"\",\n        \"description\": \"\"\n      }\n    },\n    {\n      \"column\": \"M_Yield_Ha\",\n      \"properties\": {\n        \"dtype\": \"number\",\n        \"std\": 321.6419012308184,\n        \"min\": 0.0,\n        \"max\": 1396.991494,\n        \"num_unique_values\": 52,\n        \"samples\": [\n          1396.991494\n        ],\n        \"semantic_type\": \"\",\n        \"description\": \"\"\n      }\n    },\n    {\n      \"column\": \"Crop_Area_Ha\",\n      \"properties\": {\n        \"dtype\": \"number\",\n        \"std\": 3110.505916547498,\n        \"min\": 0.171390461,\n        \"max\": 13587.99076,\n        \"num_unique_values\": 52,\n        \"samples\": [\n          957.4939458\n        ],\n        \"semantic_type\": \"\",\n        \"description\": \"\"\n      }\n    },\n    {\n      \"column\": \"S_Area_Ha\",\n      \"properties\": {\n        \"dtype\": \"number\",\n        \"std\": 2954.3558576323685,\n        \"min\": 0.130940756,\n        \"max\": 12964.49973,\n        \"num_unique_values\": 52,\n        \"samples\": [\n          859.6490275\n        ],\n        \"semantic_type\": \"\",\n        \"description\": \"\"\n      }\n    },\n    {\n      \"column\": \"M_Area_Ha\",\n      \"properties\": {\n        \"dtype\": \"number\",\n        \"std\": 724.0922880324312,\n        \"min\": 0.0,\n        \"max\": 3840.698081,\n        \"num_unique_values\": 52,\n        \"samples\": [\n          97.5422428\n        ],\n        \"semantic_type\": \"\",\n        \"description\": \"\"\n      }\n    },\n    {\n      \"column\": \"S_Prod_Tot\",\n      \"properties\": {\n        \"dtype\": \"number\",\n        \"std\": 991583.9383273157,\n        \"min\": 17.28125956,\n        \"max\": 4582294.492,\n        \"num_unique_values\": 52,\n        \"samples\": [\n          245289.0679\n        ],\n        \"semantic_type\": \"\",\n        \"description\": \"\"\n      }\n    },\n    {\n      \"column\": \"M_Prod_Tot\",\n      \"properties\": {\n        \"dtype\": \"number\",\n        \"std\": 793970.6681566153,\n        \"min\": 0.0,\n        \"max\": 4365057.517,\n        \"num_unique_values\": 52,\n        \"samples\": [\n          136265.6835\n        ],\n        \"semantic_type\": \"\",\n        \"description\": \"\"\n      }\n    }\n  ]\n}"
            }
          },
          "metadata": {},
          "execution_count": 51
        }
      ]
    },
    {
      "cell_type": "code",
      "source": [
        "#checking the columns\n",
        "df.columns"
      ],
      "metadata": {
        "id": "eaRK92cYb1PM",
        "colab": {
          "base_uri": "https://localhost:8080/"
        },
        "outputId": "bdcba19b-f9b5-406d-bfe6-8e30641297bc"
      },
      "execution_count": 52,
      "outputs": [
        {
          "output_type": "execute_result",
          "data": {
            "text/plain": [
              "Index(['OBJECTID', 'SUBCOUNTY_NAME', 'DISTRICT_NAME', 'POP', 'Area',\n",
              "       'Karamoja', 'S_Yield_Ha', 'M_Yield_Ha', 'Crop_Area_Ha', 'S_Area_Ha',\n",
              "       'M_Area_Ha', 'S_Prod_Tot', 'M_Prod_Tot'],\n",
              "      dtype='object')"
            ]
          },
          "metadata": {},
          "execution_count": 52
        }
      ]
    },
    {
      "cell_type": "code",
      "source": [
        "#checking the index of the data\n",
        "df.index"
      ],
      "metadata": {
        "id": "pm7T19uFcOOX",
        "colab": {
          "base_uri": "https://localhost:8080/"
        },
        "outputId": "4af5086a-0145-4782-f63c-089ac6a336d6"
      },
      "execution_count": 53,
      "outputs": [
        {
          "output_type": "execute_result",
          "data": {
            "text/plain": [
              "RangeIndex(start=0, stop=52, step=1)"
            ]
          },
          "metadata": {},
          "execution_count": 53
        }
      ]
    },
    {
      "cell_type": "code",
      "source": [
        "#the shape of the data (number of rows and columns)\n",
        "df.shape"
      ],
      "metadata": {
        "id": "4HseI7xyc7ME",
        "colab": {
          "base_uri": "https://localhost:8080/"
        },
        "outputId": "3c34aa39-f8b1-46db-cdb1-f9f340baea41"
      },
      "execution_count": 54,
      "outputs": [
        {
          "output_type": "execute_result",
          "data": {
            "text/plain": [
              "(52, 13)"
            ]
          },
          "metadata": {},
          "execution_count": 54
        }
      ]
    },
    {
      "cell_type": "markdown",
      "source": [
        "# **Data exploration**"
      ],
      "metadata": {
        "id": "yHOUxZhlFMmd"
      }
    },
    {
      "cell_type": "code",
      "source": [
        "#checking the data information\n",
        "df.info()"
      ],
      "metadata": {
        "id": "HIT5C08zc9MW",
        "colab": {
          "base_uri": "https://localhost:8080/"
        },
        "outputId": "7cd65599-8c69-4163-ce23-18a1e18a7128"
      },
      "execution_count": 55,
      "outputs": [
        {
          "output_type": "stream",
          "name": "stdout",
          "text": [
            "<class 'pandas.core.frame.DataFrame'>\n",
            "RangeIndex: 52 entries, 0 to 51\n",
            "Data columns (total 13 columns):\n",
            " #   Column          Non-Null Count  Dtype  \n",
            "---  ------          --------------  -----  \n",
            " 0   OBJECTID        52 non-null     int64  \n",
            " 1   SUBCOUNTY_NAME  52 non-null     object \n",
            " 2   DISTRICT_NAME   52 non-null     object \n",
            " 3   POP             52 non-null     int64  \n",
            " 4   Area            52 non-null     int64  \n",
            " 5   Karamoja        52 non-null     object \n",
            " 6   S_Yield_Ha      52 non-null     float64\n",
            " 7   M_Yield_Ha      52 non-null     float64\n",
            " 8   Crop_Area_Ha    52 non-null     float64\n",
            " 9   S_Area_Ha       52 non-null     float64\n",
            " 10  M_Area_Ha       52 non-null     float64\n",
            " 11  S_Prod_Tot      52 non-null     float64\n",
            " 12  M_Prod_Tot      52 non-null     float64\n",
            "dtypes: float64(7), int64(3), object(3)\n",
            "memory usage: 5.4+ KB\n"
          ]
        }
      ]
    },
    {
      "cell_type": "code",
      "source": [
        "#summary statistics of the data\n",
        "df.describe()"
      ],
      "metadata": {
        "id": "f-78z0qddlSU",
        "colab": {
          "base_uri": "https://localhost:8080/",
          "height": 300
        },
        "outputId": "e2a4246f-37aa-4d4f-dd94-bc95d19652b9"
      },
      "execution_count": 56,
      "outputs": [
        {
          "output_type": "execute_result",
          "data": {
            "text/plain": [
              "          OBJECTID            POP          Area  S_Yield_Ha   M_Yield_Ha  \\\n",
              "count    52.000000      52.000000  5.200000e+01   52.000000    52.000000   \n",
              "mean    787.865385   28934.692308  5.331913e+08  274.165405   940.259552   \n",
              "std     280.101314   20865.122974  4.913308e+08  118.569907   321.641901   \n",
              "min     263.000000    1418.000000  2.121209e+06  108.156411     0.000000   \n",
              "25%     597.750000   16558.500000  1.568923e+08  173.034066   743.075879   \n",
              "50%     810.500000   23053.500000  3.848356e+08  277.255206  1016.684002   \n",
              "75%     982.250000   39461.000000  7.749029e+08  368.246437  1203.548665   \n",
              "max    1320.000000  100919.000000  2.069555e+09  560.313070  1396.991494   \n",
              "\n",
              "       Crop_Area_Ha     S_Area_Ha    M_Area_Ha    S_Prod_Tot    M_Prod_Tot  \n",
              "count     52.000000     52.000000    52.000000  5.200000e+01  5.200000e+01  \n",
              "mean    2839.646974   2253.143395   536.300569  6.557443e+05  5.500730e+05  \n",
              "std     3110.505917   2954.355858   724.092288  9.915839e+05  7.939707e+05  \n",
              "min        0.171390      0.130941     0.000000  1.728126e+01  0.000000e+00  \n",
              "25%      964.876031    405.394759    79.821743  1.210555e+05  6.087012e+04  \n",
              "50%     1654.265138   1231.824456   326.479336  2.543687e+05  2.896239e+05  \n",
              "75%     3267.564651   2429.985069   740.296675  6.040942e+05  8.114574e+05  \n",
              "max    13587.990760  12964.499730  3840.698081  4.582294e+06  4.365058e+06  "
            ],
            "text/html": [
              "\n",
              "  <div id=\"df-75f9ab01-00bc-40ea-8f67-d69c4194468e\" class=\"colab-df-container\">\n",
              "    <div>\n",
              "<style scoped>\n",
              "    .dataframe tbody tr th:only-of-type {\n",
              "        vertical-align: middle;\n",
              "    }\n",
              "\n",
              "    .dataframe tbody tr th {\n",
              "        vertical-align: top;\n",
              "    }\n",
              "\n",
              "    .dataframe thead th {\n",
              "        text-align: right;\n",
              "    }\n",
              "</style>\n",
              "<table border=\"1\" class=\"dataframe\">\n",
              "  <thead>\n",
              "    <tr style=\"text-align: right;\">\n",
              "      <th></th>\n",
              "      <th>OBJECTID</th>\n",
              "      <th>POP</th>\n",
              "      <th>Area</th>\n",
              "      <th>S_Yield_Ha</th>\n",
              "      <th>M_Yield_Ha</th>\n",
              "      <th>Crop_Area_Ha</th>\n",
              "      <th>S_Area_Ha</th>\n",
              "      <th>M_Area_Ha</th>\n",
              "      <th>S_Prod_Tot</th>\n",
              "      <th>M_Prod_Tot</th>\n",
              "    </tr>\n",
              "  </thead>\n",
              "  <tbody>\n",
              "    <tr>\n",
              "      <th>count</th>\n",
              "      <td>52.000000</td>\n",
              "      <td>52.000000</td>\n",
              "      <td>5.200000e+01</td>\n",
              "      <td>52.000000</td>\n",
              "      <td>52.000000</td>\n",
              "      <td>52.000000</td>\n",
              "      <td>52.000000</td>\n",
              "      <td>52.000000</td>\n",
              "      <td>5.200000e+01</td>\n",
              "      <td>5.200000e+01</td>\n",
              "    </tr>\n",
              "    <tr>\n",
              "      <th>mean</th>\n",
              "      <td>787.865385</td>\n",
              "      <td>28934.692308</td>\n",
              "      <td>5.331913e+08</td>\n",
              "      <td>274.165405</td>\n",
              "      <td>940.259552</td>\n",
              "      <td>2839.646974</td>\n",
              "      <td>2253.143395</td>\n",
              "      <td>536.300569</td>\n",
              "      <td>6.557443e+05</td>\n",
              "      <td>5.500730e+05</td>\n",
              "    </tr>\n",
              "    <tr>\n",
              "      <th>std</th>\n",
              "      <td>280.101314</td>\n",
              "      <td>20865.122974</td>\n",
              "      <td>4.913308e+08</td>\n",
              "      <td>118.569907</td>\n",
              "      <td>321.641901</td>\n",
              "      <td>3110.505917</td>\n",
              "      <td>2954.355858</td>\n",
              "      <td>724.092288</td>\n",
              "      <td>9.915839e+05</td>\n",
              "      <td>7.939707e+05</td>\n",
              "    </tr>\n",
              "    <tr>\n",
              "      <th>min</th>\n",
              "      <td>263.000000</td>\n",
              "      <td>1418.000000</td>\n",
              "      <td>2.121209e+06</td>\n",
              "      <td>108.156411</td>\n",
              "      <td>0.000000</td>\n",
              "      <td>0.171390</td>\n",
              "      <td>0.130941</td>\n",
              "      <td>0.000000</td>\n",
              "      <td>1.728126e+01</td>\n",
              "      <td>0.000000e+00</td>\n",
              "    </tr>\n",
              "    <tr>\n",
              "      <th>25%</th>\n",
              "      <td>597.750000</td>\n",
              "      <td>16558.500000</td>\n",
              "      <td>1.568923e+08</td>\n",
              "      <td>173.034066</td>\n",
              "      <td>743.075879</td>\n",
              "      <td>964.876031</td>\n",
              "      <td>405.394759</td>\n",
              "      <td>79.821743</td>\n",
              "      <td>1.210555e+05</td>\n",
              "      <td>6.087012e+04</td>\n",
              "    </tr>\n",
              "    <tr>\n",
              "      <th>50%</th>\n",
              "      <td>810.500000</td>\n",
              "      <td>23053.500000</td>\n",
              "      <td>3.848356e+08</td>\n",
              "      <td>277.255206</td>\n",
              "      <td>1016.684002</td>\n",
              "      <td>1654.265138</td>\n",
              "      <td>1231.824456</td>\n",
              "      <td>326.479336</td>\n",
              "      <td>2.543687e+05</td>\n",
              "      <td>2.896239e+05</td>\n",
              "    </tr>\n",
              "    <tr>\n",
              "      <th>75%</th>\n",
              "      <td>982.250000</td>\n",
              "      <td>39461.000000</td>\n",
              "      <td>7.749029e+08</td>\n",
              "      <td>368.246437</td>\n",
              "      <td>1203.548665</td>\n",
              "      <td>3267.564651</td>\n",
              "      <td>2429.985069</td>\n",
              "      <td>740.296675</td>\n",
              "      <td>6.040942e+05</td>\n",
              "      <td>8.114574e+05</td>\n",
              "    </tr>\n",
              "    <tr>\n",
              "      <th>max</th>\n",
              "      <td>1320.000000</td>\n",
              "      <td>100919.000000</td>\n",
              "      <td>2.069555e+09</td>\n",
              "      <td>560.313070</td>\n",
              "      <td>1396.991494</td>\n",
              "      <td>13587.990760</td>\n",
              "      <td>12964.499730</td>\n",
              "      <td>3840.698081</td>\n",
              "      <td>4.582294e+06</td>\n",
              "      <td>4.365058e+06</td>\n",
              "    </tr>\n",
              "  </tbody>\n",
              "</table>\n",
              "</div>\n",
              "    <div class=\"colab-df-buttons\">\n",
              "\n",
              "  <div class=\"colab-df-container\">\n",
              "    <button class=\"colab-df-convert\" onclick=\"convertToInteractive('df-75f9ab01-00bc-40ea-8f67-d69c4194468e')\"\n",
              "            title=\"Convert this dataframe to an interactive table.\"\n",
              "            style=\"display:none;\">\n",
              "\n",
              "  <svg xmlns=\"http://www.w3.org/2000/svg\" height=\"24px\" viewBox=\"0 -960 960 960\">\n",
              "    <path d=\"M120-120v-720h720v720H120Zm60-500h600v-160H180v160Zm220 220h160v-160H400v160Zm0 220h160v-160H400v160ZM180-400h160v-160H180v160Zm440 0h160v-160H620v160ZM180-180h160v-160H180v160Zm440 0h160v-160H620v160Z\"/>\n",
              "  </svg>\n",
              "    </button>\n",
              "\n",
              "  <style>\n",
              "    .colab-df-container {\n",
              "      display:flex;\n",
              "      gap: 12px;\n",
              "    }\n",
              "\n",
              "    .colab-df-convert {\n",
              "      background-color: #E8F0FE;\n",
              "      border: none;\n",
              "      border-radius: 50%;\n",
              "      cursor: pointer;\n",
              "      display: none;\n",
              "      fill: #1967D2;\n",
              "      height: 32px;\n",
              "      padding: 0 0 0 0;\n",
              "      width: 32px;\n",
              "    }\n",
              "\n",
              "    .colab-df-convert:hover {\n",
              "      background-color: #E2EBFA;\n",
              "      box-shadow: 0px 1px 2px rgba(60, 64, 67, 0.3), 0px 1px 3px 1px rgba(60, 64, 67, 0.15);\n",
              "      fill: #174EA6;\n",
              "    }\n",
              "\n",
              "    .colab-df-buttons div {\n",
              "      margin-bottom: 4px;\n",
              "    }\n",
              "\n",
              "    [theme=dark] .colab-df-convert {\n",
              "      background-color: #3B4455;\n",
              "      fill: #D2E3FC;\n",
              "    }\n",
              "\n",
              "    [theme=dark] .colab-df-convert:hover {\n",
              "      background-color: #434B5C;\n",
              "      box-shadow: 0px 1px 3px 1px rgba(0, 0, 0, 0.15);\n",
              "      filter: drop-shadow(0px 1px 2px rgba(0, 0, 0, 0.3));\n",
              "      fill: #FFFFFF;\n",
              "    }\n",
              "  </style>\n",
              "\n",
              "    <script>\n",
              "      const buttonEl =\n",
              "        document.querySelector('#df-75f9ab01-00bc-40ea-8f67-d69c4194468e button.colab-df-convert');\n",
              "      buttonEl.style.display =\n",
              "        google.colab.kernel.accessAllowed ? 'block' : 'none';\n",
              "\n",
              "      async function convertToInteractive(key) {\n",
              "        const element = document.querySelector('#df-75f9ab01-00bc-40ea-8f67-d69c4194468e');\n",
              "        const dataTable =\n",
              "          await google.colab.kernel.invokeFunction('convertToInteractive',\n",
              "                                                    [key], {});\n",
              "        if (!dataTable) return;\n",
              "\n",
              "        const docLinkHtml = 'Like what you see? Visit the ' +\n",
              "          '<a target=\"_blank\" href=https://colab.research.google.com/notebooks/data_table.ipynb>data table notebook</a>'\n",
              "          + ' to learn more about interactive tables.';\n",
              "        element.innerHTML = '';\n",
              "        dataTable['output_type'] = 'display_data';\n",
              "        await google.colab.output.renderOutput(dataTable, element);\n",
              "        const docLink = document.createElement('div');\n",
              "        docLink.innerHTML = docLinkHtml;\n",
              "        element.appendChild(docLink);\n",
              "      }\n",
              "    </script>\n",
              "  </div>\n",
              "\n",
              "\n",
              "<div id=\"df-2c4ae687-2997-48cd-9e55-e4f04dc64daa\">\n",
              "  <button class=\"colab-df-quickchart\" onclick=\"quickchart('df-2c4ae687-2997-48cd-9e55-e4f04dc64daa')\"\n",
              "            title=\"Suggest charts\"\n",
              "            style=\"display:none;\">\n",
              "\n",
              "<svg xmlns=\"http://www.w3.org/2000/svg\" height=\"24px\"viewBox=\"0 0 24 24\"\n",
              "     width=\"24px\">\n",
              "    <g>\n",
              "        <path d=\"M19 3H5c-1.1 0-2 .9-2 2v14c0 1.1.9 2 2 2h14c1.1 0 2-.9 2-2V5c0-1.1-.9-2-2-2zM9 17H7v-7h2v7zm4 0h-2V7h2v10zm4 0h-2v-4h2v4z\"/>\n",
              "    </g>\n",
              "</svg>\n",
              "  </button>\n",
              "\n",
              "<style>\n",
              "  .colab-df-quickchart {\n",
              "      --bg-color: #E8F0FE;\n",
              "      --fill-color: #1967D2;\n",
              "      --hover-bg-color: #E2EBFA;\n",
              "      --hover-fill-color: #174EA6;\n",
              "      --disabled-fill-color: #AAA;\n",
              "      --disabled-bg-color: #DDD;\n",
              "  }\n",
              "\n",
              "  [theme=dark] .colab-df-quickchart {\n",
              "      --bg-color: #3B4455;\n",
              "      --fill-color: #D2E3FC;\n",
              "      --hover-bg-color: #434B5C;\n",
              "      --hover-fill-color: #FFFFFF;\n",
              "      --disabled-bg-color: #3B4455;\n",
              "      --disabled-fill-color: #666;\n",
              "  }\n",
              "\n",
              "  .colab-df-quickchart {\n",
              "    background-color: var(--bg-color);\n",
              "    border: none;\n",
              "    border-radius: 50%;\n",
              "    cursor: pointer;\n",
              "    display: none;\n",
              "    fill: var(--fill-color);\n",
              "    height: 32px;\n",
              "    padding: 0;\n",
              "    width: 32px;\n",
              "  }\n",
              "\n",
              "  .colab-df-quickchart:hover {\n",
              "    background-color: var(--hover-bg-color);\n",
              "    box-shadow: 0 1px 2px rgba(60, 64, 67, 0.3), 0 1px 3px 1px rgba(60, 64, 67, 0.15);\n",
              "    fill: var(--button-hover-fill-color);\n",
              "  }\n",
              "\n",
              "  .colab-df-quickchart-complete:disabled,\n",
              "  .colab-df-quickchart-complete:disabled:hover {\n",
              "    background-color: var(--disabled-bg-color);\n",
              "    fill: var(--disabled-fill-color);\n",
              "    box-shadow: none;\n",
              "  }\n",
              "\n",
              "  .colab-df-spinner {\n",
              "    border: 2px solid var(--fill-color);\n",
              "    border-color: transparent;\n",
              "    border-bottom-color: var(--fill-color);\n",
              "    animation:\n",
              "      spin 1s steps(1) infinite;\n",
              "  }\n",
              "\n",
              "  @keyframes spin {\n",
              "    0% {\n",
              "      border-color: transparent;\n",
              "      border-bottom-color: var(--fill-color);\n",
              "      border-left-color: var(--fill-color);\n",
              "    }\n",
              "    20% {\n",
              "      border-color: transparent;\n",
              "      border-left-color: var(--fill-color);\n",
              "      border-top-color: var(--fill-color);\n",
              "    }\n",
              "    30% {\n",
              "      border-color: transparent;\n",
              "      border-left-color: var(--fill-color);\n",
              "      border-top-color: var(--fill-color);\n",
              "      border-right-color: var(--fill-color);\n",
              "    }\n",
              "    40% {\n",
              "      border-color: transparent;\n",
              "      border-right-color: var(--fill-color);\n",
              "      border-top-color: var(--fill-color);\n",
              "    }\n",
              "    60% {\n",
              "      border-color: transparent;\n",
              "      border-right-color: var(--fill-color);\n",
              "    }\n",
              "    80% {\n",
              "      border-color: transparent;\n",
              "      border-right-color: var(--fill-color);\n",
              "      border-bottom-color: var(--fill-color);\n",
              "    }\n",
              "    90% {\n",
              "      border-color: transparent;\n",
              "      border-bottom-color: var(--fill-color);\n",
              "    }\n",
              "  }\n",
              "</style>\n",
              "\n",
              "  <script>\n",
              "    async function quickchart(key) {\n",
              "      const quickchartButtonEl =\n",
              "        document.querySelector('#' + key + ' button');\n",
              "      quickchartButtonEl.disabled = true;  // To prevent multiple clicks.\n",
              "      quickchartButtonEl.classList.add('colab-df-spinner');\n",
              "      try {\n",
              "        const charts = await google.colab.kernel.invokeFunction(\n",
              "            'suggestCharts', [key], {});\n",
              "      } catch (error) {\n",
              "        console.error('Error during call to suggestCharts:', error);\n",
              "      }\n",
              "      quickchartButtonEl.classList.remove('colab-df-spinner');\n",
              "      quickchartButtonEl.classList.add('colab-df-quickchart-complete');\n",
              "    }\n",
              "    (() => {\n",
              "      let quickchartButtonEl =\n",
              "        document.querySelector('#df-2c4ae687-2997-48cd-9e55-e4f04dc64daa button');\n",
              "      quickchartButtonEl.style.display =\n",
              "        google.colab.kernel.accessAllowed ? 'block' : 'none';\n",
              "    })();\n",
              "  </script>\n",
              "</div>\n",
              "\n",
              "    </div>\n",
              "  </div>\n"
            ],
            "application/vnd.google.colaboratory.intrinsic+json": {
              "type": "dataframe",
              "summary": "{\n  \"name\": \"df\",\n  \"rows\": 8,\n  \"fields\": [\n    {\n      \"column\": \"OBJECTID\",\n      \"properties\": {\n        \"dtype\": \"number\",\n        \"std\": 422.5038645610059,\n        \"min\": 52.0,\n        \"max\": 1320.0,\n        \"num_unique_values\": 8,\n        \"samples\": [\n          787.8653846153846,\n          810.5,\n          52.0\n        ],\n        \"semantic_type\": \"\",\n        \"description\": \"\"\n      }\n    },\n    {\n      \"column\": \"POP\",\n      \"properties\": {\n        \"dtype\": \"number\",\n        \"std\": 31930.264795187166,\n        \"min\": 52.0,\n        \"max\": 100919.0,\n        \"num_unique_values\": 8,\n        \"samples\": [\n          28934.69230769231,\n          23053.5,\n          52.0\n        ],\n        \"semantic_type\": \"\",\n        \"description\": \"\"\n      }\n    },\n    {\n      \"column\": \"Area\",\n      \"properties\": {\n        \"dtype\": \"number\",\n        \"std\": 670587856.3826762,\n        \"min\": 52.0,\n        \"max\": 2069554899.0,\n        \"num_unique_values\": 8,\n        \"samples\": [\n          533191254.61538464,\n          384835573.5,\n          52.0\n        ],\n        \"semantic_type\": \"\",\n        \"description\": \"\"\n      }\n    },\n    {\n      \"column\": \"S_Yield_Ha\",\n      \"properties\": {\n        \"dtype\": \"number\",\n        \"std\": 166.27947325656606,\n        \"min\": 52.0,\n        \"max\": 560.3130703,\n        \"num_unique_values\": 8,\n        \"samples\": [\n          274.16540509807686,\n          277.255206,\n          52.0\n        ],\n        \"semantic_type\": \"\",\n        \"description\": \"\"\n      }\n    },\n    {\n      \"column\": \"M_Yield_Ha\",\n      \"properties\": {\n        \"dtype\": \"number\",\n        \"std\": 528.0148753059847,\n        \"min\": 0.0,\n        \"max\": 1396.991494,\n        \"num_unique_values\": 8,\n        \"samples\": [\n          940.2595522519231,\n          1016.6840015,\n          52.0\n        ],\n        \"semantic_type\": \"\",\n        \"description\": \"\"\n      }\n    },\n    {\n      \"column\": \"Crop_Area_Ha\",\n      \"properties\": {\n        \"dtype\": \"number\",\n        \"std\": 4401.05137719765,\n        \"min\": 0.171390461,\n        \"max\": 13587.99076,\n        \"num_unique_values\": 8,\n        \"samples\": [\n          2839.6469742624618,\n          1654.2651375,\n          52.0\n        ],\n        \"semantic_type\": \"\",\n        \"description\": \"\"\n      }\n    },\n    {\n      \"column\": \"S_Area_Ha\",\n      \"properties\": {\n        \"dtype\": \"number\",\n        \"std\": 4265.46676737019,\n        \"min\": 0.130940756,\n        \"max\": 12964.49973,\n        \"num_unique_values\": 8,\n        \"samples\": [\n          2253.143395393,\n          1231.8244555,\n          52.0\n        ],\n        \"semantic_type\": \"\",\n        \"description\": \"\"\n      }\n    },\n    {\n      \"column\": \"M_Area_Ha\",\n      \"properties\": {\n        \"dtype\": \"number\",\n        \"std\": 1268.6231807896318,\n        \"min\": 0.0,\n        \"max\": 3840.698081,\n        \"num_unique_values\": 8,\n        \"samples\": [\n          536.3005687129423,\n          326.47933565,\n          52.0\n        ],\n        \"semantic_type\": \"\",\n        \"description\": \"\"\n      }\n    },\n    {\n      \"column\": \"S_Prod_Tot\",\n      \"properties\": {\n        \"dtype\": \"number\",\n        \"std\": 1528695.0765894842,\n        \"min\": 17.28125956,\n        \"max\": 4582294.492,\n        \"num_unique_values\": 8,\n        \"samples\": [\n          655744.3232822698,\n          254368.69795,\n          52.0\n        ],\n        \"semantic_type\": \"\",\n        \"description\": \"\"\n      }\n    },\n    {\n      \"column\": \"M_Prod_Tot\",\n      \"properties\": {\n        \"dtype\": \"number\",\n        \"std\": 1455592.0400926354,\n        \"min\": 0.0,\n        \"max\": 4365057.517,\n        \"num_unique_values\": 8,\n        \"samples\": [\n          550072.9779386854,\n          289623.9347,\n          52.0\n        ],\n        \"semantic_type\": \"\",\n        \"description\": \"\"\n      }\n    }\n  ]\n}"
            }
          },
          "metadata": {},
          "execution_count": 56
        }
      ]
    },
    {
      "cell_type": "code",
      "source": [
        "#checking unique value\n",
        "df.nunique()"
      ],
      "metadata": {
        "id": "lHXYC3sgd2op",
        "colab": {
          "base_uri": "https://localhost:8080/",
          "height": 491
        },
        "outputId": "f3bed3cd-7f8a-4305-a1d1-45868e7ff60d"
      },
      "execution_count": 57,
      "outputs": [
        {
          "output_type": "execute_result",
          "data": {
            "text/plain": [
              "OBJECTID          52\n",
              "SUBCOUNTY_NAME    52\n",
              "DISTRICT_NAME      7\n",
              "POP               52\n",
              "Area              52\n",
              "Karamoja           1\n",
              "S_Yield_Ha        52\n",
              "M_Yield_Ha        52\n",
              "Crop_Area_Ha      52\n",
              "S_Area_Ha         52\n",
              "M_Area_Ha         52\n",
              "S_Prod_Tot        52\n",
              "M_Prod_Tot        52\n",
              "dtype: int64"
            ],
            "text/html": [
              "<div>\n",
              "<style scoped>\n",
              "    .dataframe tbody tr th:only-of-type {\n",
              "        vertical-align: middle;\n",
              "    }\n",
              "\n",
              "    .dataframe tbody tr th {\n",
              "        vertical-align: top;\n",
              "    }\n",
              "\n",
              "    .dataframe thead th {\n",
              "        text-align: right;\n",
              "    }\n",
              "</style>\n",
              "<table border=\"1\" class=\"dataframe\">\n",
              "  <thead>\n",
              "    <tr style=\"text-align: right;\">\n",
              "      <th></th>\n",
              "      <th>0</th>\n",
              "    </tr>\n",
              "  </thead>\n",
              "  <tbody>\n",
              "    <tr>\n",
              "      <th>OBJECTID</th>\n",
              "      <td>52</td>\n",
              "    </tr>\n",
              "    <tr>\n",
              "      <th>SUBCOUNTY_NAME</th>\n",
              "      <td>52</td>\n",
              "    </tr>\n",
              "    <tr>\n",
              "      <th>DISTRICT_NAME</th>\n",
              "      <td>7</td>\n",
              "    </tr>\n",
              "    <tr>\n",
              "      <th>POP</th>\n",
              "      <td>52</td>\n",
              "    </tr>\n",
              "    <tr>\n",
              "      <th>Area</th>\n",
              "      <td>52</td>\n",
              "    </tr>\n",
              "    <tr>\n",
              "      <th>Karamoja</th>\n",
              "      <td>1</td>\n",
              "    </tr>\n",
              "    <tr>\n",
              "      <th>S_Yield_Ha</th>\n",
              "      <td>52</td>\n",
              "    </tr>\n",
              "    <tr>\n",
              "      <th>M_Yield_Ha</th>\n",
              "      <td>52</td>\n",
              "    </tr>\n",
              "    <tr>\n",
              "      <th>Crop_Area_Ha</th>\n",
              "      <td>52</td>\n",
              "    </tr>\n",
              "    <tr>\n",
              "      <th>S_Area_Ha</th>\n",
              "      <td>52</td>\n",
              "    </tr>\n",
              "    <tr>\n",
              "      <th>M_Area_Ha</th>\n",
              "      <td>52</td>\n",
              "    </tr>\n",
              "    <tr>\n",
              "      <th>S_Prod_Tot</th>\n",
              "      <td>52</td>\n",
              "    </tr>\n",
              "    <tr>\n",
              "      <th>M_Prod_Tot</th>\n",
              "      <td>52</td>\n",
              "    </tr>\n",
              "  </tbody>\n",
              "</table>\n",
              "</div><br><label><b>dtype:</b> int64</label>"
            ]
          },
          "metadata": {},
          "execution_count": 57
        }
      ]
    },
    {
      "cell_type": "code",
      "source": [
        "#checking number of unique values\n",
        "df.value_counts().sum()"
      ],
      "metadata": {
        "id": "vl9Xvj5Ieo0U",
        "colab": {
          "base_uri": "https://localhost:8080/"
        },
        "outputId": "f6856a69-8e6c-4ca2-e7c3-34f2869c7d62"
      },
      "execution_count": 58,
      "outputs": [
        {
          "output_type": "execute_result",
          "data": {
            "text/plain": [
              "52"
            ]
          },
          "metadata": {},
          "execution_count": 58
        }
      ]
    },
    {
      "cell_type": "code",
      "source": [
        "#printing data types of each column\n",
        "df.dtypes"
      ],
      "metadata": {
        "id": "I0K-IRWkfnBf",
        "colab": {
          "base_uri": "https://localhost:8080/",
          "height": 491
        },
        "outputId": "766a63dc-84c0-4d06-b937-bef71e12ff75"
      },
      "execution_count": 59,
      "outputs": [
        {
          "output_type": "execute_result",
          "data": {
            "text/plain": [
              "OBJECTID            int64\n",
              "SUBCOUNTY_NAME     object\n",
              "DISTRICT_NAME      object\n",
              "POP                 int64\n",
              "Area                int64\n",
              "Karamoja           object\n",
              "S_Yield_Ha        float64\n",
              "M_Yield_Ha        float64\n",
              "Crop_Area_Ha      float64\n",
              "S_Area_Ha         float64\n",
              "M_Area_Ha         float64\n",
              "S_Prod_Tot        float64\n",
              "M_Prod_Tot        float64\n",
              "dtype: object"
            ],
            "text/html": [
              "<div>\n",
              "<style scoped>\n",
              "    .dataframe tbody tr th:only-of-type {\n",
              "        vertical-align: middle;\n",
              "    }\n",
              "\n",
              "    .dataframe tbody tr th {\n",
              "        vertical-align: top;\n",
              "    }\n",
              "\n",
              "    .dataframe thead th {\n",
              "        text-align: right;\n",
              "    }\n",
              "</style>\n",
              "<table border=\"1\" class=\"dataframe\">\n",
              "  <thead>\n",
              "    <tr style=\"text-align: right;\">\n",
              "      <th></th>\n",
              "      <th>0</th>\n",
              "    </tr>\n",
              "  </thead>\n",
              "  <tbody>\n",
              "    <tr>\n",
              "      <th>OBJECTID</th>\n",
              "      <td>int64</td>\n",
              "    </tr>\n",
              "    <tr>\n",
              "      <th>SUBCOUNTY_NAME</th>\n",
              "      <td>object</td>\n",
              "    </tr>\n",
              "    <tr>\n",
              "      <th>DISTRICT_NAME</th>\n",
              "      <td>object</td>\n",
              "    </tr>\n",
              "    <tr>\n",
              "      <th>POP</th>\n",
              "      <td>int64</td>\n",
              "    </tr>\n",
              "    <tr>\n",
              "      <th>Area</th>\n",
              "      <td>int64</td>\n",
              "    </tr>\n",
              "    <tr>\n",
              "      <th>Karamoja</th>\n",
              "      <td>object</td>\n",
              "    </tr>\n",
              "    <tr>\n",
              "      <th>S_Yield_Ha</th>\n",
              "      <td>float64</td>\n",
              "    </tr>\n",
              "    <tr>\n",
              "      <th>M_Yield_Ha</th>\n",
              "      <td>float64</td>\n",
              "    </tr>\n",
              "    <tr>\n",
              "      <th>Crop_Area_Ha</th>\n",
              "      <td>float64</td>\n",
              "    </tr>\n",
              "    <tr>\n",
              "      <th>S_Area_Ha</th>\n",
              "      <td>float64</td>\n",
              "    </tr>\n",
              "    <tr>\n",
              "      <th>M_Area_Ha</th>\n",
              "      <td>float64</td>\n",
              "    </tr>\n",
              "    <tr>\n",
              "      <th>S_Prod_Tot</th>\n",
              "      <td>float64</td>\n",
              "    </tr>\n",
              "    <tr>\n",
              "      <th>M_Prod_Tot</th>\n",
              "      <td>float64</td>\n",
              "    </tr>\n",
              "  </tbody>\n",
              "</table>\n",
              "</div><br><label><b>dtype:</b> object</label>"
            ]
          },
          "metadata": {},
          "execution_count": 59
        }
      ]
    },
    {
      "cell_type": "code",
      "source": [
        "#memory usage of each column in data\n",
        "df.memory_usage()"
      ],
      "metadata": {
        "id": "vkta2gcwf1EX",
        "colab": {
          "base_uri": "https://localhost:8080/",
          "height": 523
        },
        "outputId": "b177a172-c02f-4406-fca7-5d74092101c4"
      },
      "execution_count": 60,
      "outputs": [
        {
          "output_type": "execute_result",
          "data": {
            "text/plain": [
              "Index             128\n",
              "OBJECTID          416\n",
              "SUBCOUNTY_NAME    416\n",
              "DISTRICT_NAME     416\n",
              "POP               416\n",
              "Area              416\n",
              "Karamoja          416\n",
              "S_Yield_Ha        416\n",
              "M_Yield_Ha        416\n",
              "Crop_Area_Ha      416\n",
              "S_Area_Ha         416\n",
              "M_Area_Ha         416\n",
              "S_Prod_Tot        416\n",
              "M_Prod_Tot        416\n",
              "dtype: int64"
            ],
            "text/html": [
              "<div>\n",
              "<style scoped>\n",
              "    .dataframe tbody tr th:only-of-type {\n",
              "        vertical-align: middle;\n",
              "    }\n",
              "\n",
              "    .dataframe tbody tr th {\n",
              "        vertical-align: top;\n",
              "    }\n",
              "\n",
              "    .dataframe thead th {\n",
              "        text-align: right;\n",
              "    }\n",
              "</style>\n",
              "<table border=\"1\" class=\"dataframe\">\n",
              "  <thead>\n",
              "    <tr style=\"text-align: right;\">\n",
              "      <th></th>\n",
              "      <th>0</th>\n",
              "    </tr>\n",
              "  </thead>\n",
              "  <tbody>\n",
              "    <tr>\n",
              "      <th>Index</th>\n",
              "      <td>128</td>\n",
              "    </tr>\n",
              "    <tr>\n",
              "      <th>OBJECTID</th>\n",
              "      <td>416</td>\n",
              "    </tr>\n",
              "    <tr>\n",
              "      <th>SUBCOUNTY_NAME</th>\n",
              "      <td>416</td>\n",
              "    </tr>\n",
              "    <tr>\n",
              "      <th>DISTRICT_NAME</th>\n",
              "      <td>416</td>\n",
              "    </tr>\n",
              "    <tr>\n",
              "      <th>POP</th>\n",
              "      <td>416</td>\n",
              "    </tr>\n",
              "    <tr>\n",
              "      <th>Area</th>\n",
              "      <td>416</td>\n",
              "    </tr>\n",
              "    <tr>\n",
              "      <th>Karamoja</th>\n",
              "      <td>416</td>\n",
              "    </tr>\n",
              "    <tr>\n",
              "      <th>S_Yield_Ha</th>\n",
              "      <td>416</td>\n",
              "    </tr>\n",
              "    <tr>\n",
              "      <th>M_Yield_Ha</th>\n",
              "      <td>416</td>\n",
              "    </tr>\n",
              "    <tr>\n",
              "      <th>Crop_Area_Ha</th>\n",
              "      <td>416</td>\n",
              "    </tr>\n",
              "    <tr>\n",
              "      <th>S_Area_Ha</th>\n",
              "      <td>416</td>\n",
              "    </tr>\n",
              "    <tr>\n",
              "      <th>M_Area_Ha</th>\n",
              "      <td>416</td>\n",
              "    </tr>\n",
              "    <tr>\n",
              "      <th>S_Prod_Tot</th>\n",
              "      <td>416</td>\n",
              "    </tr>\n",
              "    <tr>\n",
              "      <th>M_Prod_Tot</th>\n",
              "      <td>416</td>\n",
              "    </tr>\n",
              "  </tbody>\n",
              "</table>\n",
              "</div><br><label><b>dtype:</b> int64</label>"
            ]
          },
          "metadata": {},
          "execution_count": 60
        }
      ]
    },
    {
      "cell_type": "code",
      "source": [
        "#number of nun-null value in each column\n",
        "df.count()"
      ],
      "metadata": {
        "id": "WuKx5trugZbj",
        "colab": {
          "base_uri": "https://localhost:8080/",
          "height": 491
        },
        "outputId": "051ef074-4e27-43f9-d665-917a11d6c3f8"
      },
      "execution_count": 61,
      "outputs": [
        {
          "output_type": "execute_result",
          "data": {
            "text/plain": [
              "OBJECTID          52\n",
              "SUBCOUNTY_NAME    52\n",
              "DISTRICT_NAME     52\n",
              "POP               52\n",
              "Area              52\n",
              "Karamoja          52\n",
              "S_Yield_Ha        52\n",
              "M_Yield_Ha        52\n",
              "Crop_Area_Ha      52\n",
              "S_Area_Ha         52\n",
              "M_Area_Ha         52\n",
              "S_Prod_Tot        52\n",
              "M_Prod_Tot        52\n",
              "dtype: int64"
            ],
            "text/html": [
              "<div>\n",
              "<style scoped>\n",
              "    .dataframe tbody tr th:only-of-type {\n",
              "        vertical-align: middle;\n",
              "    }\n",
              "\n",
              "    .dataframe tbody tr th {\n",
              "        vertical-align: top;\n",
              "    }\n",
              "\n",
              "    .dataframe thead th {\n",
              "        text-align: right;\n",
              "    }\n",
              "</style>\n",
              "<table border=\"1\" class=\"dataframe\">\n",
              "  <thead>\n",
              "    <tr style=\"text-align: right;\">\n",
              "      <th></th>\n",
              "      <th>0</th>\n",
              "    </tr>\n",
              "  </thead>\n",
              "  <tbody>\n",
              "    <tr>\n",
              "      <th>OBJECTID</th>\n",
              "      <td>52</td>\n",
              "    </tr>\n",
              "    <tr>\n",
              "      <th>SUBCOUNTY_NAME</th>\n",
              "      <td>52</td>\n",
              "    </tr>\n",
              "    <tr>\n",
              "      <th>DISTRICT_NAME</th>\n",
              "      <td>52</td>\n",
              "    </tr>\n",
              "    <tr>\n",
              "      <th>POP</th>\n",
              "      <td>52</td>\n",
              "    </tr>\n",
              "    <tr>\n",
              "      <th>Area</th>\n",
              "      <td>52</td>\n",
              "    </tr>\n",
              "    <tr>\n",
              "      <th>Karamoja</th>\n",
              "      <td>52</td>\n",
              "    </tr>\n",
              "    <tr>\n",
              "      <th>S_Yield_Ha</th>\n",
              "      <td>52</td>\n",
              "    </tr>\n",
              "    <tr>\n",
              "      <th>M_Yield_Ha</th>\n",
              "      <td>52</td>\n",
              "    </tr>\n",
              "    <tr>\n",
              "      <th>Crop_Area_Ha</th>\n",
              "      <td>52</td>\n",
              "    </tr>\n",
              "    <tr>\n",
              "      <th>S_Area_Ha</th>\n",
              "      <td>52</td>\n",
              "    </tr>\n",
              "    <tr>\n",
              "      <th>M_Area_Ha</th>\n",
              "      <td>52</td>\n",
              "    </tr>\n",
              "    <tr>\n",
              "      <th>S_Prod_Tot</th>\n",
              "      <td>52</td>\n",
              "    </tr>\n",
              "    <tr>\n",
              "      <th>M_Prod_Tot</th>\n",
              "      <td>52</td>\n",
              "    </tr>\n",
              "  </tbody>\n",
              "</table>\n",
              "</div><br><label><b>dtype:</b> int64</label>"
            ]
          },
          "metadata": {},
          "execution_count": 61
        }
      ]
    },
    {
      "cell_type": "markdown",
      "source": [
        "Our data has 52 rows and 13 columns"
      ],
      "metadata": {
        "id": "nkCvcRPtk4yr"
      }
    },
    {
      "cell_type": "markdown",
      "source": [
        "# **checking for missing and duplicated values**"
      ],
      "metadata": {
        "id": "beKgaa9DiYtG"
      }
    },
    {
      "cell_type": "code",
      "source": [
        "#checking for number of missing values\n",
        "df.isnull().sum()"
      ],
      "metadata": {
        "id": "a27pfjG8i3Lx",
        "colab": {
          "base_uri": "https://localhost:8080/",
          "height": 491
        },
        "outputId": "27557ec6-35ab-4bc6-e332-3bb619587631"
      },
      "execution_count": 62,
      "outputs": [
        {
          "output_type": "execute_result",
          "data": {
            "text/plain": [
              "OBJECTID          0\n",
              "SUBCOUNTY_NAME    0\n",
              "DISTRICT_NAME     0\n",
              "POP               0\n",
              "Area              0\n",
              "Karamoja          0\n",
              "S_Yield_Ha        0\n",
              "M_Yield_Ha        0\n",
              "Crop_Area_Ha      0\n",
              "S_Area_Ha         0\n",
              "M_Area_Ha         0\n",
              "S_Prod_Tot        0\n",
              "M_Prod_Tot        0\n",
              "dtype: int64"
            ],
            "text/html": [
              "<div>\n",
              "<style scoped>\n",
              "    .dataframe tbody tr th:only-of-type {\n",
              "        vertical-align: middle;\n",
              "    }\n",
              "\n",
              "    .dataframe tbody tr th {\n",
              "        vertical-align: top;\n",
              "    }\n",
              "\n",
              "    .dataframe thead th {\n",
              "        text-align: right;\n",
              "    }\n",
              "</style>\n",
              "<table border=\"1\" class=\"dataframe\">\n",
              "  <thead>\n",
              "    <tr style=\"text-align: right;\">\n",
              "      <th></th>\n",
              "      <th>0</th>\n",
              "    </tr>\n",
              "  </thead>\n",
              "  <tbody>\n",
              "    <tr>\n",
              "      <th>OBJECTID</th>\n",
              "      <td>0</td>\n",
              "    </tr>\n",
              "    <tr>\n",
              "      <th>SUBCOUNTY_NAME</th>\n",
              "      <td>0</td>\n",
              "    </tr>\n",
              "    <tr>\n",
              "      <th>DISTRICT_NAME</th>\n",
              "      <td>0</td>\n",
              "    </tr>\n",
              "    <tr>\n",
              "      <th>POP</th>\n",
              "      <td>0</td>\n",
              "    </tr>\n",
              "    <tr>\n",
              "      <th>Area</th>\n",
              "      <td>0</td>\n",
              "    </tr>\n",
              "    <tr>\n",
              "      <th>Karamoja</th>\n",
              "      <td>0</td>\n",
              "    </tr>\n",
              "    <tr>\n",
              "      <th>S_Yield_Ha</th>\n",
              "      <td>0</td>\n",
              "    </tr>\n",
              "    <tr>\n",
              "      <th>M_Yield_Ha</th>\n",
              "      <td>0</td>\n",
              "    </tr>\n",
              "    <tr>\n",
              "      <th>Crop_Area_Ha</th>\n",
              "      <td>0</td>\n",
              "    </tr>\n",
              "    <tr>\n",
              "      <th>S_Area_Ha</th>\n",
              "      <td>0</td>\n",
              "    </tr>\n",
              "    <tr>\n",
              "      <th>M_Area_Ha</th>\n",
              "      <td>0</td>\n",
              "    </tr>\n",
              "    <tr>\n",
              "      <th>S_Prod_Tot</th>\n",
              "      <td>0</td>\n",
              "    </tr>\n",
              "    <tr>\n",
              "      <th>M_Prod_Tot</th>\n",
              "      <td>0</td>\n",
              "    </tr>\n",
              "  </tbody>\n",
              "</table>\n",
              "</div><br><label><b>dtype:</b> int64</label>"
            ]
          },
          "metadata": {},
          "execution_count": 62
        }
      ]
    },
    {
      "cell_type": "code",
      "source": [
        "#checking for duplicated data\n",
        "df.duplicated().value_counts()"
      ],
      "metadata": {
        "id": "ACWwnsqijv-a",
        "colab": {
          "base_uri": "https://localhost:8080/",
          "height": 115
        },
        "outputId": "016a07d8-645b-41b3-c749-1c87d351b866"
      },
      "execution_count": 63,
      "outputs": [
        {
          "output_type": "execute_result",
          "data": {
            "text/plain": [
              "False    52\n",
              "Name: count, dtype: int64"
            ],
            "text/html": [
              "<div>\n",
              "<style scoped>\n",
              "    .dataframe tbody tr th:only-of-type {\n",
              "        vertical-align: middle;\n",
              "    }\n",
              "\n",
              "    .dataframe tbody tr th {\n",
              "        vertical-align: top;\n",
              "    }\n",
              "\n",
              "    .dataframe thead th {\n",
              "        text-align: right;\n",
              "    }\n",
              "</style>\n",
              "<table border=\"1\" class=\"dataframe\">\n",
              "  <thead>\n",
              "    <tr style=\"text-align: right;\">\n",
              "      <th></th>\n",
              "      <th>count</th>\n",
              "    </tr>\n",
              "  </thead>\n",
              "  <tbody>\n",
              "    <tr>\n",
              "      <th>False</th>\n",
              "      <td>52</td>\n",
              "    </tr>\n",
              "  </tbody>\n",
              "</table>\n",
              "</div><br><label><b>dtype:</b> int64</label>"
            ]
          },
          "metadata": {},
          "execution_count": 63
        }
      ]
    },
    {
      "cell_type": "markdown",
      "source": [
        "From above we can see we have no missing and duplicated value.Therefore our data will require no data cleaning process."
      ],
      "metadata": {
        "id": "TgUltbO6kM7f"
      }
    },
    {
      "cell_type": "code",
      "source": [
        "#checking population data\n",
        "df['POP'].head()"
      ],
      "metadata": {
        "id": "WZKyBNrhjjHW",
        "colab": {
          "base_uri": "https://localhost:8080/",
          "height": 241
        },
        "outputId": "2c881b1b-46f8-485c-ce8f-e34de52990cb"
      },
      "execution_count": 64,
      "outputs": [
        {
          "output_type": "execute_result",
          "data": {
            "text/plain": [
              "0    17244\n",
              "1    52771\n",
              "2    27389\n",
              "3    38775\n",
              "4    65704\n",
              "Name: POP, dtype: int64"
            ],
            "text/html": [
              "<div>\n",
              "<style scoped>\n",
              "    .dataframe tbody tr th:only-of-type {\n",
              "        vertical-align: middle;\n",
              "    }\n",
              "\n",
              "    .dataframe tbody tr th {\n",
              "        vertical-align: top;\n",
              "    }\n",
              "\n",
              "    .dataframe thead th {\n",
              "        text-align: right;\n",
              "    }\n",
              "</style>\n",
              "<table border=\"1\" class=\"dataframe\">\n",
              "  <thead>\n",
              "    <tr style=\"text-align: right;\">\n",
              "      <th></th>\n",
              "      <th>POP</th>\n",
              "    </tr>\n",
              "  </thead>\n",
              "  <tbody>\n",
              "    <tr>\n",
              "      <th>0</th>\n",
              "      <td>17244</td>\n",
              "    </tr>\n",
              "    <tr>\n",
              "      <th>1</th>\n",
              "      <td>52771</td>\n",
              "    </tr>\n",
              "    <tr>\n",
              "      <th>2</th>\n",
              "      <td>27389</td>\n",
              "    </tr>\n",
              "    <tr>\n",
              "      <th>3</th>\n",
              "      <td>38775</td>\n",
              "    </tr>\n",
              "    <tr>\n",
              "      <th>4</th>\n",
              "      <td>65704</td>\n",
              "    </tr>\n",
              "  </tbody>\n",
              "</table>\n",
              "</div><br><label><b>dtype:</b> int64</label>"
            ]
          },
          "metadata": {},
          "execution_count": 64
        }
      ]
    },
    {
      "cell_type": "code",
      "source": [
        "#population mean\n",
        "df['POP'].mean()"
      ],
      "metadata": {
        "colab": {
          "base_uri": "https://localhost:8080/"
        },
        "id": "oUC2FUkYHSil",
        "outputId": "3aa82208-2721-4dff-8f80-da59c4ef9310"
      },
      "execution_count": 65,
      "outputs": [
        {
          "output_type": "execute_result",
          "data": {
            "text/plain": [
              "28934.69230769231"
            ]
          },
          "metadata": {},
          "execution_count": 65
        }
      ]
    },
    {
      "cell_type": "code",
      "source": [
        "#standard deviation for population\n",
        "df['POP'].std()"
      ],
      "metadata": {
        "colab": {
          "base_uri": "https://localhost:8080/"
        },
        "id": "5sGkpVWSHX0c",
        "outputId": "fe74be0e-9da8-43fb-dce5-3e4bce899d83"
      },
      "execution_count": 66,
      "outputs": [
        {
          "output_type": "execute_result",
          "data": {
            "text/plain": [
              "20865.12297416429"
            ]
          },
          "metadata": {},
          "execution_count": 66
        }
      ]
    },
    {
      "cell_type": "code",
      "source": [
        "#median for population\n",
        "df['POP'].median()"
      ],
      "metadata": {
        "colab": {
          "base_uri": "https://localhost:8080/"
        },
        "id": "l4adhvJ5HnBi",
        "outputId": "5b6e73d3-f131-4c26-ccc9-2f154ed4bd37"
      },
      "execution_count": 67,
      "outputs": [
        {
          "output_type": "execute_result",
          "data": {
            "text/plain": [
              "23053.5"
            ]
          },
          "metadata": {},
          "execution_count": 67
        }
      ]
    },
    {
      "source": [
        "# Check the available columns in your DataFrame\n",
        "print(df.columns)\n",
        "\n",
        "# Adjust the column name based on the output above. For example:\n",
        "df['POP'].value_counts().tail()"
      ],
      "cell_type": "code",
      "metadata": {
        "id": "W7sK28--kALB",
        "colab": {
          "base_uri": "https://localhost:8080/",
          "height": 341
        },
        "outputId": "61347443-f551-4767-c9e1-e0cfef54dbfb"
      },
      "execution_count": 68,
      "outputs": [
        {
          "output_type": "stream",
          "name": "stdout",
          "text": [
            "Index(['OBJECTID', 'SUBCOUNTY_NAME', 'DISTRICT_NAME', 'POP', 'Area',\n",
            "       'Karamoja', 'S_Yield_Ha', 'M_Yield_Ha', 'Crop_Area_Ha', 'S_Area_Ha',\n",
            "       'M_Area_Ha', 'S_Prod_Tot', 'M_Prod_Tot'],\n",
            "      dtype='object')\n"
          ]
        },
        {
          "output_type": "execute_result",
          "data": {
            "text/plain": [
              "POP\n",
              "14377    1\n",
              "11489    1\n",
              "12573    1\n",
              "18641    1\n",
              "16588    1\n",
              "Name: count, dtype: int64"
            ],
            "text/html": [
              "<div>\n",
              "<style scoped>\n",
              "    .dataframe tbody tr th:only-of-type {\n",
              "        vertical-align: middle;\n",
              "    }\n",
              "\n",
              "    .dataframe tbody tr th {\n",
              "        vertical-align: top;\n",
              "    }\n",
              "\n",
              "    .dataframe thead th {\n",
              "        text-align: right;\n",
              "    }\n",
              "</style>\n",
              "<table border=\"1\" class=\"dataframe\">\n",
              "  <thead>\n",
              "    <tr style=\"text-align: right;\">\n",
              "      <th></th>\n",
              "      <th>count</th>\n",
              "    </tr>\n",
              "    <tr>\n",
              "      <th>POP</th>\n",
              "      <th></th>\n",
              "    </tr>\n",
              "  </thead>\n",
              "  <tbody>\n",
              "    <tr>\n",
              "      <th>14377</th>\n",
              "      <td>1</td>\n",
              "    </tr>\n",
              "    <tr>\n",
              "      <th>11489</th>\n",
              "      <td>1</td>\n",
              "    </tr>\n",
              "    <tr>\n",
              "      <th>12573</th>\n",
              "      <td>1</td>\n",
              "    </tr>\n",
              "    <tr>\n",
              "      <th>18641</th>\n",
              "      <td>1</td>\n",
              "    </tr>\n",
              "    <tr>\n",
              "      <th>16588</th>\n",
              "      <td>1</td>\n",
              "    </tr>\n",
              "  </tbody>\n",
              "</table>\n",
              "</div><br><label><b>dtype:</b> int64</label>"
            ]
          },
          "metadata": {},
          "execution_count": 68
        }
      ]
    },
    {
      "cell_type": "code",
      "source": [
        "#checking total area\n",
        "df['Area'].sum()"
      ],
      "metadata": {
        "id": "35hrAhAslrRL",
        "colab": {
          "base_uri": "https://localhost:8080/"
        },
        "outputId": "ba3a0dfe-9217-4c99-b3d0-1a879b352fa8"
      },
      "execution_count": 69,
      "outputs": [
        {
          "output_type": "execute_result",
          "data": {
            "text/plain": [
              "27725945240"
            ]
          },
          "metadata": {},
          "execution_count": 69
        }
      ]
    },
    {
      "cell_type": "code",
      "source": [
        "#grouping poulation by sub_county\n",
        "df.groupby('SUBCOUNTY_NAME')['POP'].sum().head()"
      ],
      "metadata": {
        "id": "cyebhUO9mOUQ",
        "colab": {
          "base_uri": "https://localhost:8080/",
          "height": 272
        },
        "outputId": "c6f3fcff-746c-4ebf-9c58-1e242d477950"
      },
      "execution_count": 70,
      "outputs": [
        {
          "output_type": "execute_result",
          "data": {
            "text/plain": [
              "SUBCOUNTY_NAME\n",
              "ABIM                   14377\n",
              "ABIM TOWN COUNCIL      11489\n",
              "ALEREK                 12573\n",
              "AMUDAT                 30181\n",
              "AMUDAT TOWN COUNCIL     4053\n",
              "Name: POP, dtype: int64"
            ],
            "text/html": [
              "<div>\n",
              "<style scoped>\n",
              "    .dataframe tbody tr th:only-of-type {\n",
              "        vertical-align: middle;\n",
              "    }\n",
              "\n",
              "    .dataframe tbody tr th {\n",
              "        vertical-align: top;\n",
              "    }\n",
              "\n",
              "    .dataframe thead th {\n",
              "        text-align: right;\n",
              "    }\n",
              "</style>\n",
              "<table border=\"1\" class=\"dataframe\">\n",
              "  <thead>\n",
              "    <tr style=\"text-align: right;\">\n",
              "      <th></th>\n",
              "      <th>POP</th>\n",
              "    </tr>\n",
              "    <tr>\n",
              "      <th>SUBCOUNTY_NAME</th>\n",
              "      <th></th>\n",
              "    </tr>\n",
              "  </thead>\n",
              "  <tbody>\n",
              "    <tr>\n",
              "      <th>ABIM</th>\n",
              "      <td>14377</td>\n",
              "    </tr>\n",
              "    <tr>\n",
              "      <th>ABIM TOWN COUNCIL</th>\n",
              "      <td>11489</td>\n",
              "    </tr>\n",
              "    <tr>\n",
              "      <th>ALEREK</th>\n",
              "      <td>12573</td>\n",
              "    </tr>\n",
              "    <tr>\n",
              "      <th>AMUDAT</th>\n",
              "      <td>30181</td>\n",
              "    </tr>\n",
              "    <tr>\n",
              "      <th>AMUDAT TOWN COUNCIL</th>\n",
              "      <td>4053</td>\n",
              "    </tr>\n",
              "  </tbody>\n",
              "</table>\n",
              "</div><br><label><b>dtype:</b> int64</label>"
            ]
          },
          "metadata": {},
          "execution_count": 70
        }
      ]
    },
    {
      "cell_type": "code",
      "source": [
        "#grouping population by district_name\n",
        "df.groupby('DISTRICT_NAME')['POP'].sum().head()"
      ],
      "metadata": {
        "id": "1cSm14srn2dj",
        "colab": {
          "base_uri": "https://localhost:8080/",
          "height": 272
        },
        "outputId": "209a02c2-76e7-4388-85e1-8b5321067bd4"
      },
      "execution_count": 71,
      "outputs": [
        {
          "output_type": "execute_result",
          "data": {
            "text/plain": [
              "DISTRICT_NAME\n",
              "ABIM        90384\n",
              "AMUDAT     101790\n",
              "KAABONG    627057\n",
              "KOTIDO     243156\n",
              "MOROTO     127812\n",
              "Name: POP, dtype: int64"
            ],
            "text/html": [
              "<div>\n",
              "<style scoped>\n",
              "    .dataframe tbody tr th:only-of-type {\n",
              "        vertical-align: middle;\n",
              "    }\n",
              "\n",
              "    .dataframe tbody tr th {\n",
              "        vertical-align: top;\n",
              "    }\n",
              "\n",
              "    .dataframe thead th {\n",
              "        text-align: right;\n",
              "    }\n",
              "</style>\n",
              "<table border=\"1\" class=\"dataframe\">\n",
              "  <thead>\n",
              "    <tr style=\"text-align: right;\">\n",
              "      <th></th>\n",
              "      <th>POP</th>\n",
              "    </tr>\n",
              "    <tr>\n",
              "      <th>DISTRICT_NAME</th>\n",
              "      <th></th>\n",
              "    </tr>\n",
              "  </thead>\n",
              "  <tbody>\n",
              "    <tr>\n",
              "      <th>ABIM</th>\n",
              "      <td>90384</td>\n",
              "    </tr>\n",
              "    <tr>\n",
              "      <th>AMUDAT</th>\n",
              "      <td>101790</td>\n",
              "    </tr>\n",
              "    <tr>\n",
              "      <th>KAABONG</th>\n",
              "      <td>627057</td>\n",
              "    </tr>\n",
              "    <tr>\n",
              "      <th>KOTIDO</th>\n",
              "      <td>243156</td>\n",
              "    </tr>\n",
              "    <tr>\n",
              "      <th>MOROTO</th>\n",
              "      <td>127812</td>\n",
              "    </tr>\n",
              "  </tbody>\n",
              "</table>\n",
              "</div><br><label><b>dtype:</b> int64</label>"
            ]
          },
          "metadata": {},
          "execution_count": 71
        }
      ]
    },
    {
      "cell_type": "markdown",
      "source": [
        "# **Data visualisation**"
      ],
      "metadata": {
        "id": "pqN2YZEjFuL0"
      }
    },
    {
      "cell_type": "code",
      "source": [
        "#a histogram for population\n",
        "plt.figure(figsize=(10, 6)) # create figure with specified size\n",
        "plt.hist(df['POP'], bins=20, edgecolor='black')\n",
        "#title of graph\n",
        "plt.title('Population Distribution')\n",
        "plt.xlabel('Population')\n",
        "plt.ylabel('Frequency')\n",
        "plt.show()"
      ],
      "metadata": {
        "colab": {
          "base_uri": "https://localhost:8080/",
          "height": 564
        },
        "id": "qY_POXWNKQT7",
        "outputId": "8fd4b23e-edfd-4d09-dc60-41674d7dcce3"
      },
      "execution_count": 72,
      "outputs": [
        {
          "output_type": "display_data",
          "data": {
            "text/plain": [
              "<Figure size 1000x600 with 1 Axes>"
            ],
            "image/png": "[encoded data removed]"
          },
          "metadata": {}
        }
      ]
    },
    {
      "cell_type": "code",
      "source": [
        "#bar graph of population per sub_county sorted in descending order\n",
        "df.groupby('SUBCOUNTY_NAME')['POP'].sum().sort_values(ascending=False).head().plot(kind='bar')\n",
        "#size of bar\n",
        "plt.rcParams['figure.figsize'] = (10, 6)\n",
        "#title of graph\n",
        "plt.title('Population per Sub-County')\n",
        "plt.xlabel('Sub-County')\n",
        "plt.ylabel('Population')\n",
        "plt.show()"
      ],
      "metadata": {
        "colab": {
          "base_uri": "https://localhost:8080/",
          "height": 643
        },
        "id": "EiINFEIwN_oR",
        "outputId": "38c2169d-bfd8-4910-c7c1-6d88440391b1"
      },
      "execution_count": 73,
      "outputs": [
        {
          "output_type": "display_data",
          "data": {
            "text/plain": [
              "<Figure size 1000x600 with 1 Axes>"
            ],
            "image/png": "[encoded data removed]"
          },
          "metadata": {}
        }
      ]
    },
    {
      "cell_type": "code",
      "source": [
        "#bar graph of population per district sorted in descending order\n",
        "df.groupby('DISTRICT_NAME')['POP'].sum().sort_values(ascending=False).plot(kind='bar')\n",
        "#size of bar\n",
        "plt.rcParams['figure.figsize'] = (10, 7)\n",
        "#title of graph\n",
        "plt.title('Population per District')\n",
        "plt.xlabel('District')\n",
        "plt.ylabel('Population')\n",
        "plt.show()"
      ],
      "metadata": {
        "colab": {
          "base_uri": "https://localhost:8080/",
          "height": 649
        },
        "id": "bkfGST8fQZXW",
        "outputId": "60b9d16d-5a6b-4ee3-9a92-d41c0b197601"
      },
      "execution_count": 74,
      "outputs": [
        {
          "output_type": "display_data",
          "data": {
            "text/plain": [
              "<Figure size 1000x600 with 1 Axes>"
            ],
            "image/png": "[encoded data removed]"
          },
          "metadata": {}
        }
      ]
    },
    {
      "cell_type": "code",
      "source": [
        "#showing name of subcounty and in which district they are found together with population\n",
        "df.groupby(['SUBCOUNTY_NAME', 'DISTRICT_NAME'])['POP'].sum()\n",
        "#for subcounty with highest population\n",
        "df.groupby(['SUBCOUNTY_NAME', 'DISTRICT_NAME'])['POP'].sum().sort_values(ascending=False).head()\n"
      ],
      "metadata": {
        "colab": {
          "base_uri": "https://localhost:8080/",
          "height": 272
        },
        "id": "RvbH7Q9cT74b",
        "outputId": "5f0a429c-4c25-4c33-fa2d-08310e9b3df6"
      },
      "execution_count": 75,
      "outputs": [
        {
          "output_type": "execute_result",
          "data": {
            "text/plain": [
              "SUBCOUNTY_NAME  DISTRICT_NAME\n",
              "LOLELIA         KAABONG          100919\n",
              "KALAPATA        KAABONG           99203\n",
              "PANYANGARA      KOTIDO            65704\n",
              "KAMION          KAABONG           60070\n",
              "KATHILE         KAABONG           56870\n",
              "Name: POP, dtype: int64"
            ],
            "text/html": [
              "<div>\n",
              "<style scoped>\n",
              "    .dataframe tbody tr th:only-of-type {\n",
              "        vertical-align: middle;\n",
              "    }\n",
              "\n",
              "    .dataframe tbody tr th {\n",
              "        vertical-align: top;\n",
              "    }\n",
              "\n",
              "    .dataframe thead th {\n",
              "        text-align: right;\n",
              "    }\n",
              "</style>\n",
              "<table border=\"1\" class=\"dataframe\">\n",
              "  <thead>\n",
              "    <tr style=\"text-align: right;\">\n",
              "      <th></th>\n",
              "      <th></th>\n",
              "      <th>POP</th>\n",
              "    </tr>\n",
              "    <tr>\n",
              "      <th>SUBCOUNTY_NAME</th>\n",
              "      <th>DISTRICT_NAME</th>\n",
              "      <th></th>\n",
              "    </tr>\n",
              "  </thead>\n",
              "  <tbody>\n",
              "    <tr>\n",
              "      <th>LOLELIA</th>\n",
              "      <th>KAABONG</th>\n",
              "      <td>100919</td>\n",
              "    </tr>\n",
              "    <tr>\n",
              "      <th>KALAPATA</th>\n",
              "      <th>KAABONG</th>\n",
              "      <td>99203</td>\n",
              "    </tr>\n",
              "    <tr>\n",
              "      <th>PANYANGARA</th>\n",
              "      <th>KOTIDO</th>\n",
              "      <td>65704</td>\n",
              "    </tr>\n",
              "    <tr>\n",
              "      <th>KAMION</th>\n",
              "      <th>KAABONG</th>\n",
              "      <td>60070</td>\n",
              "    </tr>\n",
              "    <tr>\n",
              "      <th>KATHILE</th>\n",
              "      <th>KAABONG</th>\n",
              "      <td>56870</td>\n",
              "    </tr>\n",
              "  </tbody>\n",
              "</table>\n",
              "</div><br><label><b>dtype:</b> int64</label>"
            ]
          },
          "metadata": {},
          "execution_count": 75
        }
      ]
    },
    {
      "cell_type": "markdown",
      "source": [
        "### From the above data we can see that Kabongo district has the highest population, even having 4 out of 5 subcounty with the highest population from Kabongo district"
      ],
      "metadata": {
        "id": "UUPXDqXqWgYT"
      }
    },
    {
      "cell_type": "code",
      "source": [
        "#district and their respective area\n",
        "df.groupby('DISTRICT_NAME')['Area'].sum()\n",
        "#arranged in descending order\n",
        "df.groupby('DISTRICT_NAME')['Area'].sum().sort_values(ascending=False)\n"
      ],
      "metadata": {
        "colab": {
          "base_uri": "https://localhost:8080/",
          "height": 335
        },
        "id": "Fqd9nF91X8kq",
        "outputId": "8830a9f0-1008-4002-cf10-38193479a5b3"
      },
      "execution_count": 76,
      "outputs": [
        {
          "output_type": "execute_result",
          "data": {
            "text/plain": [
              "DISTRICT_NAME\n",
              "KAABONG          7373600820\n",
              "NAPAK            4508778102\n",
              "NAKAPIRIPIRIT    4216319883\n",
              "KOTIDO           3641536124\n",
              "MOROTO           3570157178\n",
              "ABIM             2771973781\n",
              "AMUDAT           1643579352\n",
              "Name: Area, dtype: int64"
            ],
            "text/html": [
              "<div>\n",
              "<style scoped>\n",
              "    .dataframe tbody tr th:only-of-type {\n",
              "        vertical-align: middle;\n",
              "    }\n",
              "\n",
              "    .dataframe tbody tr th {\n",
              "        vertical-align: top;\n",
              "    }\n",
              "\n",
              "    .dataframe thead th {\n",
              "        text-align: right;\n",
              "    }\n",
              "</style>\n",
              "<table border=\"1\" class=\"dataframe\">\n",
              "  <thead>\n",
              "    <tr style=\"text-align: right;\">\n",
              "      <th></th>\n",
              "      <th>Area</th>\n",
              "    </tr>\n",
              "    <tr>\n",
              "      <th>DISTRICT_NAME</th>\n",
              "      <th></th>\n",
              "    </tr>\n",
              "  </thead>\n",
              "  <tbody>\n",
              "    <tr>\n",
              "      <th>KAABONG</th>\n",
              "      <td>7373600820</td>\n",
              "    </tr>\n",
              "    <tr>\n",
              "      <th>NAPAK</th>\n",
              "      <td>4508778102</td>\n",
              "    </tr>\n",
              "    <tr>\n",
              "      <th>NAKAPIRIPIRIT</th>\n",
              "      <td>4216319883</td>\n",
              "    </tr>\n",
              "    <tr>\n",
              "      <th>KOTIDO</th>\n",
              "      <td>3641536124</td>\n",
              "    </tr>\n",
              "    <tr>\n",
              "      <th>MOROTO</th>\n",
              "      <td>3570157178</td>\n",
              "    </tr>\n",
              "    <tr>\n",
              "      <th>ABIM</th>\n",
              "      <td>2771973781</td>\n",
              "    </tr>\n",
              "    <tr>\n",
              "      <th>AMUDAT</th>\n",
              "      <td>1643579352</td>\n",
              "    </tr>\n",
              "  </tbody>\n",
              "</table>\n",
              "</div><br><label><b>dtype:</b> int64</label>"
            ]
          },
          "metadata": {},
          "execution_count": 76
        }
      ]
    },
    {
      "cell_type": "code",
      "source": [
        "# bar graph of average yield for sorghum for the subcounty sorted in descending order\n",
        "df.groupby('SUBCOUNTY_NAME')['S_Yield_Ha'].mean().sort_values(ascending=False).head().plot(kind='bar')\n",
        "#size of figure\n",
        "plt.rcParams['figure.figsize'] = (10, 6)\n",
        "#title of graph\n",
        "plt.title('Average Yield for Sorghum by Sub-County')\n",
        "plt.xlabel('Sub-County')\n",
        "plt.ylabel('Average Yield (Ha)')\n",
        "plt.xticks(rotation=90)\n",
        "plt.show()\n"
      ],
      "metadata": {
        "colab": {
          "base_uri": "https://localhost:8080/",
          "height": 841
        },
        "id": "rljYo5otYnTg",
        "outputId": "909c280a-f8d1-4699-e9ae-0386ab3f1525"
      },
      "execution_count": 77,
      "outputs": [
        {
          "output_type": "display_data",
          "data": {
            "text/plain": [
              "<Figure size 1000x700 with 1 Axes>"
            ],
            "image/png": "[encoded data removed]"
          },
          "metadata": {}
        }
      ]
    },
    {
      "cell_type": "code",
      "source": [
        "# bar graph of average yield for maize for the subcounty sorted in descending order\n",
        "df.groupby('SUBCOUNTY_NAME')['M_Yield_Ha'].mean().sort_values(ascending=False).head().plot(kind='bar')\n",
        "#size of graph\n",
        "plt.rcParams['figure.figsize'] = (10, 6)\n",
        "#title of graph\n",
        "plt.title('Average Yield for Maize by Sub-County')\n",
        "plt.xlabel('Sub-County')\n",
        "plt.ylabel('Average Yield (Ha)')\n",
        "plt.xticks(rotation=90)\n",
        "plt.show()\n"
      ],
      "metadata": {
        "colab": {
          "base_uri": "https://localhost:8080/",
          "height": 659
        },
        "id": "OogXYowucld0",
        "outputId": "49a25ec5-d1c6-44f7-ac20-b87add26e782"
      },
      "execution_count": 78,
      "outputs": [
        {
          "output_type": "display_data",
          "data": {
            "text/plain": [
              "<Figure size 1000x600 with 1 Axes>"
            ],
            "image/png": "[encoded data removed]"
          },
          "metadata": {}
        }
      ]
    },
    {
      "cell_type": "code",
      "source": [
        "#showing name of subcounty and in which district they are found having higest sorghum production per ha\n",
        "df.groupby(['SUBCOUNTY_NAME', 'DISTRICT_NAME'])['S_Yield_Ha'].sum().sort_values(ascending=False).head()\n"
      ],
      "metadata": {
        "colab": {
          "base_uri": "https://localhost:8080/",
          "height": 272
        },
        "id": "uNYW48Ncdka0",
        "outputId": "4ebb30b0-72f5-4a12-fbd3-2d81562ba98a"
      },
      "execution_count": 79,
      "outputs": [
        {
          "output_type": "execute_result",
          "data": {
            "text/plain": [
              "SUBCOUNTY_NAME              DISTRICT_NAME\n",
              "NAMALU                      NAKAPIRIPIRIT    560.313070\n",
              "ALEREK                      ABIM             520.407672\n",
              "ABIM                        ABIM             501.263249\n",
              "NAKAPIRIPIRIT TOWN COUNCIL  NAKAPIRIPIRIT    482.438793\n",
              "ABIM TOWN COUNCIL           ABIM             439.750995\n",
              "Name: S_Yield_Ha, dtype: float64"
            ],
            "text/html": [
              "<div>\n",
              "<style scoped>\n",
              "    .dataframe tbody tr th:only-of-type {\n",
              "        vertical-align: middle;\n",
              "    }\n",
              "\n",
              "    .dataframe tbody tr th {\n",
              "        vertical-align: top;\n",
              "    }\n",
              "\n",
              "    .dataframe thead th {\n",
              "        text-align: right;\n",
              "    }\n",
              "</style>\n",
              "<table border=\"1\" class=\"dataframe\">\n",
              "  <thead>\n",
              "    <tr style=\"text-align: right;\">\n",
              "      <th></th>\n",
              "      <th></th>\n",
              "      <th>S_Yield_Ha</th>\n",
              "    </tr>\n",
              "    <tr>\n",
              "      <th>SUBCOUNTY_NAME</th>\n",
              "      <th>DISTRICT_NAME</th>\n",
              "      <th></th>\n",
              "    </tr>\n",
              "  </thead>\n",
              "  <tbody>\n",
              "    <tr>\n",
              "      <th>NAMALU</th>\n",
              "      <th>NAKAPIRIPIRIT</th>\n",
              "      <td>560.313070</td>\n",
              "    </tr>\n",
              "    <tr>\n",
              "      <th>ALEREK</th>\n",
              "      <th>ABIM</th>\n",
              "      <td>520.407672</td>\n",
              "    </tr>\n",
              "    <tr>\n",
              "      <th>ABIM</th>\n",
              "      <th>ABIM</th>\n",
              "      <td>501.263249</td>\n",
              "    </tr>\n",
              "    <tr>\n",
              "      <th>NAKAPIRIPIRIT TOWN COUNCIL</th>\n",
              "      <th>NAKAPIRIPIRIT</th>\n",
              "      <td>482.438793</td>\n",
              "    </tr>\n",
              "    <tr>\n",
              "      <th>ABIM TOWN COUNCIL</th>\n",
              "      <th>ABIM</th>\n",
              "      <td>439.750995</td>\n",
              "    </tr>\n",
              "  </tbody>\n",
              "</table>\n",
              "</div><br><label><b>dtype:</b> float64</label>"
            ]
          },
          "metadata": {},
          "execution_count": 79
        }
      ]
    },
    {
      "cell_type": "markdown",
      "source": [
        "From data it is clear that Abim district has the highest production for sorghum"
      ],
      "metadata": {
        "id": "c2ve3u1ye-mz"
      }
    },
    {
      "cell_type": "code",
      "source": [
        "#showing name of subcounty and in which district they are found having higest maize production per ha\n",
        "df.groupby(['SUBCOUNTY_NAME', 'DISTRICT_NAME'])['M_Yield_Ha'].sum().sort_values(ascending=False).head()"
      ],
      "metadata": {
        "colab": {
          "base_uri": "https://localhost:8080/",
          "height": 272
        },
        "id": "9ktTdofffBAo",
        "outputId": "a95c3dc4-a84c-48db-ef72-a9fb2315a6ac"
      },
      "execution_count": 80,
      "outputs": [
        {
          "output_type": "execute_result",
          "data": {
            "text/plain": [
              "SUBCOUNTY_NAME  DISTRICT_NAME\n",
              "SIDOK           KAABONG          1396.991494\n",
              "AMUDAT          AMUDAT           1379.045945\n",
              "NAMALU          NAKAPIRIPIRIT    1325.254872\n",
              "KAKOMONGOLE     NAKAPIRIPIRIT    1318.261936\n",
              "LOYORO          KAABONG          1303.403556\n",
              "Name: M_Yield_Ha, dtype: float64"
            ],
            "text/html": [
              "<div>\n",
              "<style scoped>\n",
              "    .dataframe tbody tr th:only-of-type {\n",
              "        vertical-align: middle;\n",
              "    }\n",
              "\n",
              "    .dataframe tbody tr th {\n",
              "        vertical-align: top;\n",
              "    }\n",
              "\n",
              "    .dataframe thead th {\n",
              "        text-align: right;\n",
              "    }\n",
              "</style>\n",
              "<table border=\"1\" class=\"dataframe\">\n",
              "  <thead>\n",
              "    <tr style=\"text-align: right;\">\n",
              "      <th></th>\n",
              "      <th></th>\n",
              "      <th>M_Yield_Ha</th>\n",
              "    </tr>\n",
              "    <tr>\n",
              "      <th>SUBCOUNTY_NAME</th>\n",
              "      <th>DISTRICT_NAME</th>\n",
              "      <th></th>\n",
              "    </tr>\n",
              "  </thead>\n",
              "  <tbody>\n",
              "    <tr>\n",
              "      <th>SIDOK</th>\n",
              "      <th>KAABONG</th>\n",
              "      <td>1396.991494</td>\n",
              "    </tr>\n",
              "    <tr>\n",
              "      <th>AMUDAT</th>\n",
              "      <th>AMUDAT</th>\n",
              "      <td>1379.045945</td>\n",
              "    </tr>\n",
              "    <tr>\n",
              "      <th>NAMALU</th>\n",
              "      <th>NAKAPIRIPIRIT</th>\n",
              "      <td>1325.254872</td>\n",
              "    </tr>\n",
              "    <tr>\n",
              "      <th>KAKOMONGOLE</th>\n",
              "      <th>NAKAPIRIPIRIT</th>\n",
              "      <td>1318.261936</td>\n",
              "    </tr>\n",
              "    <tr>\n",
              "      <th>LOYORO</th>\n",
              "      <th>KAABONG</th>\n",
              "      <td>1303.403556</td>\n",
              "    </tr>\n",
              "  </tbody>\n",
              "</table>\n",
              "</div><br><label><b>dtype:</b> float64</label>"
            ]
          },
          "metadata": {},
          "execution_count": 80
        }
      ]
    },
    {
      "cell_type": "markdown",
      "source": [
        "From the data we can deduce that Kaabon District contributes immensly to production of maize as compared to sorghum.It may be the land in Kaabong\n",
        "District supports maize but not sorghum farming.We can also see that Nakapiripirit contribytes to both maize and sorghum farming."
      ],
      "metadata": {
        "id": "xhf62h46gkAA"
      }
    },
    {
      "cell_type": "code",
      "source": [
        "#groupby of subcounty and district with their total sorghum area\n",
        "df.groupby(['SUBCOUNTY_NAME', 'DISTRICT_NAME'])['S_Area_Ha'].sum().sort_values(ascending=False).head()"
      ],
      "metadata": {
        "colab": {
          "base_uri": "https://localhost:8080/",
          "height": 272
        },
        "id": "92VDR4ki-XLt",
        "outputId": "e0c3ac85-38c2-4327-d32a-5298723728e0"
      },
      "execution_count": 81,
      "outputs": [
        {
          "output_type": "execute_result",
          "data": {
            "text/plain": [
              "SUBCOUNTY_NAME  DISTRICT_NAME\n",
              "RENGEN          KOTIDO           12964.499730\n",
              "KOTIDO          KOTIDO           12455.592640\n",
              "PANYANGARA      KOTIDO           10111.198130\n",
              "NAKAPERIMORU    KOTIDO            6761.488901\n",
              "KACHERI         KOTIDO            6434.342449\n",
              "Name: S_Area_Ha, dtype: float64"
            ],
            "text/html": [
              "<div>\n",
              "<style scoped>\n",
              "    .dataframe tbody tr th:only-of-type {\n",
              "        vertical-align: middle;\n",
              "    }\n",
              "\n",
              "    .dataframe tbody tr th {\n",
              "        vertical-align: top;\n",
              "    }\n",
              "\n",
              "    .dataframe thead th {\n",
              "        text-align: right;\n",
              "    }\n",
              "</style>\n",
              "<table border=\"1\" class=\"dataframe\">\n",
              "  <thead>\n",
              "    <tr style=\"text-align: right;\">\n",
              "      <th></th>\n",
              "      <th></th>\n",
              "      <th>S_Area_Ha</th>\n",
              "    </tr>\n",
              "    <tr>\n",
              "      <th>SUBCOUNTY_NAME</th>\n",
              "      <th>DISTRICT_NAME</th>\n",
              "      <th></th>\n",
              "    </tr>\n",
              "  </thead>\n",
              "  <tbody>\n",
              "    <tr>\n",
              "      <th>RENGEN</th>\n",
              "      <th>KOTIDO</th>\n",
              "      <td>12964.499730</td>\n",
              "    </tr>\n",
              "    <tr>\n",
              "      <th>KOTIDO</th>\n",
              "      <th>KOTIDO</th>\n",
              "      <td>12455.592640</td>\n",
              "    </tr>\n",
              "    <tr>\n",
              "      <th>PANYANGARA</th>\n",
              "      <th>KOTIDO</th>\n",
              "      <td>10111.198130</td>\n",
              "    </tr>\n",
              "    <tr>\n",
              "      <th>NAKAPERIMORU</th>\n",
              "      <th>KOTIDO</th>\n",
              "      <td>6761.488901</td>\n",
              "    </tr>\n",
              "    <tr>\n",
              "      <th>KACHERI</th>\n",
              "      <th>KOTIDO</th>\n",
              "      <td>6434.342449</td>\n",
              "    </tr>\n",
              "  </tbody>\n",
              "</table>\n",
              "</div><br><label><b>dtype:</b> float64</label>"
            ]
          },
          "metadata": {},
          "execution_count": 81
        }
      ]
    },
    {
      "cell_type": "markdown",
      "source": [
        "It is clear that Kotido district has the highest land for sourghum  production"
      ],
      "metadata": {
        "id": "z5N70ITEAieo"
      }
    },
    {
      "cell_type": "code",
      "source": [
        "#groupby of subcounty and district with their total maize area\n",
        "df.groupby(['SUBCOUNTY_NAME', 'DISTRICT_NAME'])['M_Area_Ha'].sum().sort_values(ascending=False).head()\n"
      ],
      "metadata": {
        "colab": {
          "base_uri": "https://localhost:8080/",
          "height": 272
        },
        "id": "c0bduu3akpCV",
        "outputId": "5a789e3f-12f1-4a7f-e886-a48b3136faea"
      },
      "execution_count": 82,
      "outputs": [
        {
          "output_type": "execute_result",
          "data": {
            "text/plain": [
              "SUBCOUNTY_NAME    DISTRICT_NAME\n",
              "IRIIRI            NAPAK            3840.698081\n",
              "NAMALU            NAKAPIRIPIRIT    3293.749460\n",
              "KAWALAKOL         KAABONG          1620.876815\n",
              "NAPORE (KARENGA)  KAABONG          1221.532726\n",
              "KARITA            AMUDAT           1100.152370\n",
              "Name: M_Area_Ha, dtype: float64"
            ],
            "text/html": [
              "<div>\n",
              "<style scoped>\n",
              "    .dataframe tbody tr th:only-of-type {\n",
              "        vertical-align: middle;\n",
              "    }\n",
              "\n",
              "    .dataframe tbody tr th {\n",
              "        vertical-align: top;\n",
              "    }\n",
              "\n",
              "    .dataframe thead th {\n",
              "        text-align: right;\n",
              "    }\n",
              "</style>\n",
              "<table border=\"1\" class=\"dataframe\">\n",
              "  <thead>\n",
              "    <tr style=\"text-align: right;\">\n",
              "      <th></th>\n",
              "      <th></th>\n",
              "      <th>M_Area_Ha</th>\n",
              "    </tr>\n",
              "    <tr>\n",
              "      <th>SUBCOUNTY_NAME</th>\n",
              "      <th>DISTRICT_NAME</th>\n",
              "      <th></th>\n",
              "    </tr>\n",
              "  </thead>\n",
              "  <tbody>\n",
              "    <tr>\n",
              "      <th>IRIIRI</th>\n",
              "      <th>NAPAK</th>\n",
              "      <td>3840.698081</td>\n",
              "    </tr>\n",
              "    <tr>\n",
              "      <th>NAMALU</th>\n",
              "      <th>NAKAPIRIPIRIT</th>\n",
              "      <td>3293.749460</td>\n",
              "    </tr>\n",
              "    <tr>\n",
              "      <th>KAWALAKOL</th>\n",
              "      <th>KAABONG</th>\n",
              "      <td>1620.876815</td>\n",
              "    </tr>\n",
              "    <tr>\n",
              "      <th>NAPORE (KARENGA)</th>\n",
              "      <th>KAABONG</th>\n",
              "      <td>1221.532726</td>\n",
              "    </tr>\n",
              "    <tr>\n",
              "      <th>KARITA</th>\n",
              "      <th>AMUDAT</th>\n",
              "      <td>1100.152370</td>\n",
              "    </tr>\n",
              "  </tbody>\n",
              "</table>\n",
              "</div><br><label><b>dtype:</b> float64</label>"
            ]
          },
          "metadata": {},
          "execution_count": 82
        }
      ]
    },
    {
      "cell_type": "markdown",
      "source": [
        "we can deduce that maize has a high production in all districts as their is no dominat producer"
      ],
      "metadata": {
        "id": "9XUfPNrOlFuR"
      }
    },
    {
      "cell_type": "code",
      "source": [
        "#a correlation heatmap showing relationship between population per district, S_Yield_Ha ,M_Yield_Ha and crop area per district\n",
        "corr = df.groupby('DISTRICT_NAME')[['POP', 'S_Yield_Ha', 'M_Yield_Ha', 'Area']].sum().corr()\n",
        "sns.heatmap(corr, annot=True, cmap='coolwarm')\n",
        "plt.title('Correlation Heatmap')\n",
        "plt.show()\n"
      ],
      "metadata": {
        "colab": {
          "base_uri": "https://localhost:8080/",
          "height": 545
        },
        "id": "GFJyfSqyomov",
        "outputId": "b023c4ac-9a00-4aaa-c478-f02a01d5f8b5"
      },
      "execution_count": 83,
      "outputs": [
        {
          "output_type": "display_data",
          "data": {
            "text/plain": [
              "<Figure size 1000x600 with 2 Axes>"
            ],
            "image/png": "[encoded data removed]"
          },
          "metadata": {}
        }
      ]
    },
    {
      "cell_type": "markdown",
      "source": [
        "# **Conclusion**"
      ],
      "metadata": {
        "id": "jS_wwzojrMFq"
      }
    },
    {
      "cell_type": "markdown",
      "source": [
        "There is a strong correlation between population and maize yield.Their is also a strong correlation between maize yield and area suggesting as maize yield per hectare increase, the cultivated area of land also increases.Their is a strong postive correlation between population and area suggesting as the population increases so does the area of land cultivated.Their is a weak correlation between sorghum yield and population suggesting as the population increases the yield per hectare tends to decrease."
      ],
      "metadata": {
        "id": "XHIgE2sLzwXD"
      }
    },
    {
      "cell_type": "markdown",
      "source": [
        "# **Recommendations**"
      ],
      "metadata": {
        "id": "oV1rUMzy7dyi"
      }
    },
    {
      "cell_type": "markdown",
      "source": [
        "\n",
        "\n",
        "1. To increase agriculture productivity and meet the growing population demand for food by reserch and development to improve farming techiques and technology.\n",
        "1. To meet the increasing demand for food especially in densely populated regions, it is adviced to use more efficient land use practises ensure food security for the growing population.\n",
        "\n",
        "2. To promote sustainable farming practices and support small scale farmers as this will helpin agricultural productivity and provide income for rural communities.\n",
        "\n",
        "2. To address the negative impact of population growth on agricultural productivity it is recommended to implement education and family planning programs to reduce pressure on agricultural resources.\n",
        "\n"
      ],
      "metadata": {
        "id": "GXe2r8vdAOvp"
      }
    }
  ]
}